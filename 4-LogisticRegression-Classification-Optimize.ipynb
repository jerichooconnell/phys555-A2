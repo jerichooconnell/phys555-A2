{
 "cells": [
  {
   "cell_type": "code",
   "execution_count": 1,
   "id": "republican-hydrogen",
   "metadata": {},
   "outputs": [
    {
     "name": "stdout",
     "output_type": "stream",
     "text": [
      "Populating the interactive namespace from numpy and matplotlib\n"
     ]
    }
   ],
   "source": [
    "%pylab inline\n",
    "import os # for path joining per os"
   ]
  },
  {
   "cell_type": "markdown",
   "id": "demographic-colony",
   "metadata": {},
   "source": [
    "Breast cancer wisconsin (diagnostic) dataset\n",
    "============================================\n",
    "\n",
    "## Introduction\n",
    "\n",
    "The dataset is a sample dataset from sklearn and comes shipped with the package. It is a binary classification of whether a biopsied breast mass contains cancer or not provided by the University of Wisconsin A short description is found in the sklearn documentation https://scikit-learn.org/stable/datasets/toy_dataset.html#breast-cancer-dataset\n",
    "\n",
    "The description is copied in the cell below so that you do not need to visit the above link.\n",
    "\n",
    "This dataset is useful to me in particular as my PhD work is in medical imaging and some of the work I do is diagnostic imaging for breast cancer screening. This dataset is a classic machine learning dataset that deals with the classification of breast cancer biopsies to see if breast masses are malignant or not using features from a fine needle aspirate of a breast mass. This would be the next step in cancer diagnosis following a positive result in a diagnostic image from a mammography machine which is an imaging tests that my research is involved with. To see the bigger picture in the cancer diagnosis process in our clinic I am very interested in this process, that is why I chose this specific dataset.\n",
    "\n",
    "The idea behind this dataset would be to train a model that is able to use the features to classify a new sample as is benign or malignant with high accuracy.\n",
    "\n",
    "### Sklearn Documentation Entry\n",
    "\n",
    "**Data Set Characteristics:**\n",
    "\n",
    "> Number of Instances: 569\n",
    ">\n",
    "> Number of Attributes: 30 numeric, predictive attributes and the class\n",
    ">\n",
    "> Attribute Information\n",
    ">\n",
    ">     -   radius (mean of distances from center to points on the\n",
    ">         perimeter)\n",
    ">     -   texture (standard deviation of gray-scale values)\n",
    ">     -   perimeter\n",
    ">     -   area\n",
    ">     -   smoothness (local variation in radius lengths)\n",
    ">     -   compactness (perimeter\\^2 / area - 1.0)\n",
    ">     -   concavity (severity of concave portions of the contour)\n",
    ">     -   concave points (number of concave portions of the contour)\n",
    ">     -   symmetry\n",
    ">     -   fractal dimension (\"coastline approximation\" - 1)\n",
    ">\n",
    ">     The mean, standard error, and \"worst\" or largest (mean of the\n",
    ">     three worst/largest values) of these features were computed for\n",
    ">     each image, resulting in 30 features. For instance, field 0 is\n",
    ">     Mean Radius, field 10 is Radius SE, field 20 is Worst Radius.\n",
    ">\n",
    ">     -   \n",
    ">\n",
    ">         class:\n",
    ">\n",
    ">         *   -   WDBC-Malignant\n",
    ">             -   WDBC-Benign\n",
    ">\n",
    "> ** Summary Statistics **\n",
    ">  \n",
    ">\n",
    "> |                                         Min     Max\n",
    "> |   ------------------------------------- ------- --------\n",
    "> |   radius (mean):                        6.981   28.11\n",
    "> |   texture (mean):                       9.71    39.28\n",
    "> |   perimeter (mean):                     43.79   188.5\n",
    "> |   area (mean):                          143.5   2501.0\n",
    "> |   smoothness (mean):                    0.053   0.163\n",
    "> |   compactness (mean):                   0.019   0.345\n",
    "> |   concavity (mean):                     0.0     0.427\n",
    "> |   concave points (mean):                0.0     0.201\n",
    "> |   symmetry (mean):                      0.106   0.304\n",
    "> |   fractal dimension (mean):             0.05    0.097\n",
    "> |   radius (standard error):              0.112   2.873\n",
    "> |   texture (standard error):             0.36    4.885\n",
    "> |   perimeter (standard error):           0.757   21.98\n",
    "> |   area (standard error):                6.802   542.2\n",
    "> |   smoothness (standard error):          0.002   0.031\n",
    "> |   compactness (standard error):         0.002   0.135\n",
    "> |   concavity (standard error):           0.0     0.396\n",
    "> |   concave points (standard error):      0.0     0.053\n",
    "> |   symmetry (standard error):            0.008   0.079\n",
    "> |   fractal dimension (standard error):   0.001   0.03\n",
    "> |   radius (worst):                       7.93    36.04\n",
    "> |   texture (worst):                      12.02   49.54\n",
    "> |   perimeter (worst):                    50.41   251.2\n",
    "> |   area (worst):                         185.2   4254.0\n",
    "> |   smoothness (worst):                   0.071   0.223\n",
    "> |   compactness (worst):                  0.027   1.058\n",
    "> |   concavity (worst):                    0.0     1.252\n",
    "> |   concave points (worst):               0.0     0.291\n",
    "> |   symmetry (worst):                     0.156   0.664\n",
    "> |   fractal dimension (worst):            0.055   0.208\n",
    ">\n",
    "\n",
    "> Missing Attribute Values:  None\n",
    ">\n",
    "> Class Distribution:  212 - Malignant, 357 - Benign\n",
    ">\n",
    "> Creator:  Dr. William H. Wolberg, W. Nick Street, Olvi L. Mangasarian\n",
    ">\n",
    "> Donor:  Nick Street\n",
    ">\n",
    "> Date:  November, 1995\n",
    "\n",
    "This is a copy of UCI ML Breast Cancer Wisconsin (Diagnostic) datasets.\n",
    "<https://goo.gl/U2Uwz2>\n",
    "\n",
    "Features are computed from a digitized image of a fine needle aspirate\n",
    "(FNA) of a breast mass. They describe characteristics of the cell nuclei\n",
    "present in the image.\n",
    "\n",
    "Separating plane described above was obtained using Multisurface\n",
    "Method-Tree (MSM-T) [K. P. Bennett, \"Decision Tree Construction Via\n",
    "Linear Programming.\" Proceedings of the 4th Midwest Artificial\n",
    "Intelligence and Cognitive Science Society, pp. 97-101, 1992], a\n",
    "classification method which uses linear programming to construct a\n",
    "decision tree. Relevant features were selected using an exhaustive\n",
    "search in the space of 1-4 features and 1-3 separating planes.\n",
    "\n",
    "The actual linear program used to obtain the separating plane in the\n",
    "3-dimensional space is that described in: [K. P. Bennett and O. L.\n",
    "Mangasarian: \"Robust Linear Programming Discrimination of Two Linearly\n",
    "Inseparable Sets\", Optimization Methods and Software 1, 1992, 23-34].\n",
    "\n",
    "This database is also available through the UW CS ftp server:\n",
    "\n",
    "`ftp ftp.cs.wisc.edu cd math-prog/cpo-dataset/machine-learn/WDBC/`\n",
    "\n",
    "**References**\n",
    "\n",
    "-   W.N. Street, W.H. Wolberg and O.L. Mangasarian. Nuclear feature\n",
    "    extraction for breast tumor diagnosis. IS&T/SPIE 1993 International\n",
    "    Symposium on Electronic Imaging: Science and Technology, volume\n",
    "    1905, pages 861-870, San Jose, CA, 1993.\n",
    "-   O.L. Mangasarian, W.N. Street and W.H. Wolberg. Breast cancer\n",
    "    diagnosis and prognosis via linear programming. Operations Research,\n",
    "    43(4), pages 570-577, July-August 1995.\n",
    "-   W.H. Wolberg, W.N. Street, and O.L. Mangasarian. Machine learning\n",
    "    techniques to diagnose breast cancer from fine-needle aspirates.\n",
    "    Cancer Letters 77 (1994) 163-171."
   ]
  },
  {
   "cell_type": "markdown",
   "id": "driven-multiple",
   "metadata": {},
   "source": [
    "## The assignment question is as follows:\n",
    "\n",
    "4 - Use your data and find the best hyperparameters of a Logistic Regression (for a classification) using GridSearch. There are many hyperparameters here. Based on your experiences, choose at least 5 hyperparameters that you think are more important. For example, one could be regularization; L1 and L2."
   ]
  },
  {
   "cell_type": "code",
   "execution_count": 2,
   "id": "alive-analysis",
   "metadata": {},
   "outputs": [],
   "source": [
    "#Import packages\n",
    "from sklearn.preprocessing import StandardScaler, MinMaxScaler\n",
    "from sklearn.neighbors import KNeighborsRegressor, KNeighborsClassifier\n",
    "from sklearn import datasets\n",
    "from sklearn.model_selection import train_test_split, ParameterGrid, GridSearchCV, RepeatedStratifiedKFold\n",
    "from sklearn.linear_model import LogisticRegression\n",
    "from sklearn import metrics\n",
    "# Import the breast cancer dataset from sklearn\n",
    "from sklearn.datasets import load_breast_cancer\n",
    "import matplotlib.gridspec as gridspec\n",
    "import pandas as pd"
   ]
  },
  {
   "cell_type": "markdown",
   "id": "antique-territory",
   "metadata": {},
   "source": [
    "### Load the data from the sklearn package"
   ]
  },
  {
   "cell_type": "code",
   "execution_count": 3,
   "id": "activated-extraction",
   "metadata": {},
   "outputs": [],
   "source": [
    "# Load the data\n",
    "data = load_breast_cancer()\n",
    "X, Y = data.data, data.target"
   ]
  },
  {
   "cell_type": "markdown",
   "id": "c14e70a9",
   "metadata": {},
   "source": [
    "### Balance the data\n",
    "\n",
    "I will make the data balanced for training by removing some of the benign samples. Since the data is random it shouldn't matter if I take the first n samples that are benign instead of all of them.\n",
    "\n",
    "This is unfortunate to remove about a hundred data samples and perhaps having a shuffle of minibatches that are balanced would be best approach in the future. However the dataset still has over 400 samples which is an allowable number for how many features the dataset has."
   ]
  },
  {
   "cell_type": "code",
   "execution_count": 4,
   "id": "b2bc5c70",
   "metadata": {},
   "outputs": [
    {
     "name": "stdout",
     "output_type": "stream",
     "text": [
      "Before balancing 212 malignant, 357 benign\n",
      "After balancing 212 malignant, 212 benign\n"
     ]
    }
   ],
   "source": [
    "print(f'Before balancing {-np.sum(Y) + len(Y)} malignant, {np.sum(Y)} benign')\n",
    "\n",
    "X_b, Y_b = X[Y == 1], Y[Y == 1]\n",
    "X_m, Y_m = X[Y == 0], Y[Y == 0]\n",
    "\n",
    "X_bal = np.concatenate((X_b[:212],X_m))\n",
    "Y_bal = np.concatenate((Y_b[:212],Y_m))\n",
    "\n",
    "print(f'After balancing {-np.sum(Y_bal) + len(Y_bal)} malignant, {np.sum(Y_bal)} benign')"
   ]
  },
  {
   "cell_type": "markdown",
   "id": "continued-hybrid",
   "metadata": {},
   "source": [
    "### The dataset is not too large so in this instance I will use the full dataset"
   ]
  },
  {
   "cell_type": "code",
   "execution_count": 5,
   "id": "external-singles",
   "metadata": {},
   "outputs": [
    {
     "name": "stdout",
     "output_type": "stream",
     "text": [
      "training set ==  (339, 30) (339,) , validation set ==  (85, 30) (85,)\n"
     ]
    }
   ],
   "source": [
    "# Split for validation set\n",
    "X_tr, X_va, Y_tr, Y_va = train_test_split(X_bal, Y_bal, test_size=0.2)\n",
    "\n",
    "print('training set == ', np.shape(X_tr), np.shape(Y_tr),\n",
    "      ', validation set == ', np.shape(X_va), np.shape(Y_va))"
   ]
  },
  {
   "cell_type": "markdown",
   "id": "south-completion",
   "metadata": {},
   "source": [
    "### Normalized Data\n",
    "\n",
    "#### Applying the standard scaler to the data"
   ]
  },
  {
   "cell_type": "code",
   "execution_count": 6,
   "id": "liked-count",
   "metadata": {},
   "outputs": [],
   "source": [
    "# Apply the standard scaler\n",
    "scaler_S = StandardScaler().fit(X_tr) # Only fit on the training\n",
    "X_tr_Norm = scaler_S.transform(X_tr)\n",
    "X_va_Norm = scaler_S.transform(X_va)"
   ]
  },
  {
   "cell_type": "markdown",
   "id": "intermediate-landing",
   "metadata": {},
   "source": [
    "#### The standard scaler really spread out the data and pushed the mean back from ~0.2 to 0"
   ]
  },
  {
   "cell_type": "markdown",
   "id": "careful-weight",
   "metadata": {},
   "source": [
    "## Applying the Logistic Regression classifier with Normalization"
   ]
  },
  {
   "cell_type": "markdown",
   "id": "thrown-marathon",
   "metadata": {},
   "source": [
    "### Initialize the Logistic Regression using a grid search\n",
    "#### Look at the docstring of the logistic regression to see what perameters to search over"
   ]
  },
  {
   "cell_type": "code",
   "execution_count": 7,
   "id": "81267c93",
   "metadata": {
    "scrolled": false
   },
   "outputs": [
    {
     "name": "stdout",
     "output_type": "stream",
     "text": [
      "\n",
      "    Logistic Regression (aka logit, MaxEnt) classifier.\n",
      "\n",
      "    In the multiclass case, the training algorithm uses the one-vs-rest (OvR)\n",
      "    scheme if the 'multi_class' option is set to 'ovr', and uses the\n",
      "    cross-entropy loss if the 'multi_class' option is set to 'multinomial'.\n",
      "    (Currently the 'multinomial' option is supported only by the 'lbfgs',\n",
      "    'sag', 'saga' and 'newton-cg' solvers.)\n",
      "\n",
      "    This class implements regularized logistic regression using the\n",
      "    'liblinear' library, 'newton-cg', 'sag', 'saga' and 'lbfgs' solvers. **Note\n",
      "    that regularization is applied by default**. It can handle both dense\n",
      "    and sparse input. Use C-ordered arrays or CSR matrices containing 64-bit\n",
      "    floats for optimal performance; any other input format will be converted\n",
      "    (and copied).\n",
      "\n",
      "    The 'newton-cg', 'sag', and 'lbfgs' solvers support only L2 regularization\n",
      "    with primal formulation, or no regularization. The 'liblinear' solver\n",
      "    supports both L1 and L2 regularization, with a dual formulation only for\n",
      "    the L2 penalty. The Elastic-Net regularization is only supported by the\n",
      "    'saga' solver.\n",
      "\n",
      "    Read more in the :ref:`User Guide <logistic_regression>`.\n",
      "\n",
      "    Parameters\n",
      "    ----------\n",
      "    penalty : {'l1', 'l2', 'elasticnet', 'none'}, default='l2'\n",
      "        Specify the norm of the penalty:\n",
      "\n",
      "        - `'none'`: no penalty is added;\n",
      "        - `'l2'`: add a L2 penalty term and it is the default choice;\n",
      "        - `'l1'`: add a L1 penalty term;\n",
      "        - `'elasticnet'`: both L1 and L2 penalty terms are added.\n",
      "\n",
      "        .. warning::\n",
      "           Some penalties may not work with some solvers. See the parameter\n",
      "           `solver` below, to know the compatibility between the penalty and\n",
      "           solver.\n",
      "\n",
      "        .. versionadded:: 0.19\n",
      "           l1 penalty with SAGA solver (allowing 'multinomial' + L1)\n",
      "\n",
      "    dual : bool, default=False\n",
      "        Dual or primal formulation. Dual formulation is only implemented for\n",
      "        l2 penalty with liblinear solver. Prefer dual=False when\n",
      "        n_samples > n_features.\n",
      "\n",
      "    tol : float, default=1e-4\n",
      "        Tolerance for stopping criteria.\n",
      "\n",
      "    C : float, default=1.0\n",
      "        Inverse of regularization strength; must be a positive float.\n",
      "        Like in support vector machines, smaller values specify stronger\n",
      "        regularization.\n",
      "\n",
      "    fit_intercept : bool, default=True\n",
      "        Specifies if a constant (a.k.a. bias or intercept) should be\n",
      "        added to the decision function.\n",
      "\n",
      "    intercept_scaling : float, default=1\n",
      "        Useful only when the solver 'liblinear' is used\n",
      "        and self.fit_intercept is set to True. In this case, x becomes\n",
      "        [x, self.intercept_scaling],\n",
      "        i.e. a \"synthetic\" feature with constant value equal to\n",
      "        intercept_scaling is appended to the instance vector.\n",
      "        The intercept becomes ``intercept_scaling * synthetic_feature_weight``.\n",
      "\n",
      "        Note! the synthetic feature weight is subject to l1/l2 regularization\n",
      "        as all other features.\n",
      "        To lessen the effect of regularization on synthetic feature weight\n",
      "        (and therefore on the intercept) intercept_scaling has to be increased.\n",
      "\n",
      "    class_weight : dict or 'balanced', default=None\n",
      "        Weights associated with classes in the form ``{class_label: weight}``.\n",
      "        If not given, all classes are supposed to have weight one.\n",
      "\n",
      "        The \"balanced\" mode uses the values of y to automatically adjust\n",
      "        weights inversely proportional to class frequencies in the input data\n",
      "        as ``n_samples / (n_classes * np.bincount(y))``.\n",
      "\n",
      "        Note that these weights will be multiplied with sample_weight (passed\n",
      "        through the fit method) if sample_weight is specified.\n",
      "\n",
      "        .. versionadded:: 0.17\n",
      "           *class_weight='balanced'*\n",
      "\n",
      "    random_state : int, RandomState instance, default=None\n",
      "        Used when ``solver`` == 'sag', 'saga' or 'liblinear' to shuffle the\n",
      "        data. See :term:`Glossary <random_state>` for details.\n",
      "\n",
      "    solver : {'newton-cg', 'lbfgs', 'liblinear', 'sag', 'saga'},             default='lbfgs'\n",
      "\n",
      "        Algorithm to use in the optimization problem. Default is 'lbfgs'.\n",
      "        To choose a solver, you might want to consider the following aspects:\n",
      "\n",
      "            - For small datasets, 'liblinear' is a good choice, whereas 'sag'\n",
      "              and 'saga' are faster for large ones;\n",
      "            - For multiclass problems, only 'newton-cg', 'sag', 'saga' and\n",
      "              'lbfgs' handle multinomial loss;\n",
      "            - 'liblinear' is limited to one-versus-rest schemes.\n",
      "\n",
      "        .. warning::\n",
      "           The choice of the algorithm depends on the penalty chosen:\n",
      "           Supported penalties by solver:\n",
      "\n",
      "           - 'newton-cg'   -   ['l2', 'none']\n",
      "           - 'lbfgs'       -   ['l2', 'none']\n",
      "           - 'liblinear'   -   ['l1', 'l2']\n",
      "           - 'sag'         -   ['l2', 'none']\n",
      "           - 'saga'        -   ['elasticnet', 'l1', 'l2', 'none']\n",
      "\n",
      "        .. note::\n",
      "           'sag' and 'saga' fast convergence is only guaranteed on\n",
      "           features with approximately the same scale. You can\n",
      "           preprocess the data with a scaler from :mod:`sklearn.preprocessing`.\n",
      "\n",
      "        .. seealso::\n",
      "           Refer to the User Guide for more information regarding\n",
      "           :class:`LogisticRegression` and more specifically the\n",
      "           `Table <https://scikit-learn.org/dev/modules/linear_model.html#logistic-regression>`_\n",
      "           summarazing solver/penalty supports.\n",
      "           <!--\n",
      "           # noqa: E501\n",
      "           -->\n",
      "\n",
      "        .. versionadded:: 0.17\n",
      "           Stochastic Average Gradient descent solver.\n",
      "        .. versionadded:: 0.19\n",
      "           SAGA solver.\n",
      "        .. versionchanged:: 0.22\n",
      "            The default solver changed from 'liblinear' to 'lbfgs' in 0.22.\n",
      "\n",
      "    max_iter : int, default=100\n",
      "        Maximum number of iterations taken for the solvers to converge.\n",
      "\n",
      "    multi_class : {'auto', 'ovr', 'multinomial'}, default='auto'\n",
      "        If the option chosen is 'ovr', then a binary problem is fit for each\n",
      "        label. For 'multinomial' the loss minimised is the multinomial loss fit\n",
      "        across the entire probability distribution, *even when the data is\n",
      "        binary*. 'multinomial' is unavailable when solver='liblinear'.\n",
      "        'auto' selects 'ovr' if the data is binary, or if solver='liblinear',\n",
      "        and otherwise selects 'multinomial'.\n",
      "\n",
      "        .. versionadded:: 0.18\n",
      "           Stochastic Average Gradient descent solver for 'multinomial' case.\n",
      "        .. versionchanged:: 0.22\n",
      "            Default changed from 'ovr' to 'auto' in 0.22.\n",
      "\n",
      "    verbose : int, default=0\n",
      "        For the liblinear and lbfgs solvers set verbose to any positive\n",
      "        number for verbosity.\n",
      "\n",
      "    warm_start : bool, default=False\n",
      "        When set to True, reuse the solution of the previous call to fit as\n",
      "        initialization, otherwise, just erase the previous solution.\n",
      "        Useless for liblinear solver. See :term:`the Glossary <warm_start>`.\n",
      "\n",
      "        .. versionadded:: 0.17\n",
      "           *warm_start* to support *lbfgs*, *newton-cg*, *sag*, *saga* solvers.\n",
      "\n",
      "    n_jobs : int, default=None\n",
      "        Number of CPU cores used when parallelizing over classes if\n",
      "        multi_class='ovr'\". This parameter is ignored when the ``solver`` is\n",
      "        set to 'liblinear' regardless of whether 'multi_class' is specified or\n",
      "        not. ``None`` means 1 unless in a :obj:`joblib.parallel_backend`\n",
      "        context. ``-1`` means using all processors.\n",
      "        See :term:`Glossary <n_jobs>` for more details.\n",
      "\n",
      "    l1_ratio : float, default=None\n",
      "        The Elastic-Net mixing parameter, with ``0 <= l1_ratio <= 1``. Only\n",
      "        used if ``penalty='elasticnet'``. Setting ``l1_ratio=0`` is equivalent\n",
      "        to using ``penalty='l2'``, while setting ``l1_ratio=1`` is equivalent\n",
      "        to using ``penalty='l1'``. For ``0 < l1_ratio <1``, the penalty is a\n",
      "        combination of L1 and L2.\n",
      "\n",
      "    Attributes\n",
      "    ----------\n",
      "\n",
      "    classes_ : ndarray of shape (n_classes, )\n",
      "        A list of class labels known to the classifier.\n",
      "\n",
      "    coef_ : ndarray of shape (1, n_features) or (n_classes, n_features)\n",
      "        Coefficient of the features in the decision function.\n",
      "\n",
      "        `coef_` is of shape (1, n_features) when the given problem is binary.\n",
      "        In particular, when `multi_class='multinomial'`, `coef_` corresponds\n",
      "        to outcome 1 (True) and `-coef_` corresponds to outcome 0 (False).\n",
      "\n",
      "    intercept_ : ndarray of shape (1,) or (n_classes,)\n",
      "        Intercept (a.k.a. bias) added to the decision function.\n",
      "\n",
      "        If `fit_intercept` is set to False, the intercept is set to zero.\n",
      "        `intercept_` is of shape (1,) when the given problem is binary.\n",
      "        In particular, when `multi_class='multinomial'`, `intercept_`\n",
      "        corresponds to outcome 1 (True) and `-intercept_` corresponds to\n",
      "        outcome 0 (False).\n",
      "\n",
      "    n_features_in_ : int\n",
      "        Number of features seen during :term:`fit`.\n",
      "\n",
      "        .. versionadded:: 0.24\n",
      "\n",
      "    feature_names_in_ : ndarray of shape (`n_features_in_`,)\n",
      "        Names of features seen during :term:`fit`. Defined only when `X`\n",
      "        has feature names that are all strings.\n",
      "\n",
      "        .. versionadded:: 1.0\n",
      "\n",
      "    n_iter_ : ndarray of shape (n_classes,) or (1, )\n",
      "        Actual number of iterations for all classes. If binary or multinomial,\n",
      "        it returns only 1 element. For liblinear solver, only the maximum\n",
      "        number of iteration across all classes is given.\n",
      "\n",
      "        .. versionchanged:: 0.20\n",
      "\n",
      "            In SciPy <= 1.0.0 the number of lbfgs iterations may exceed\n",
      "            ``max_iter``. ``n_iter_`` will now report at most ``max_iter``.\n",
      "\n",
      "    See Also\n",
      "    --------\n",
      "    SGDClassifier : Incrementally trained logistic regression (when given\n",
      "        the parameter ``loss=\"log\"``).\n",
      "    LogisticRegressionCV : Logistic regression with built-in cross validation.\n",
      "\n",
      "    Notes\n",
      "    -----\n",
      "    The underlying C implementation uses a random number generator to\n",
      "    select features when fitting the model. It is thus not uncommon,\n",
      "    to have slightly different results for the same input data. If\n",
      "    that happens, try with a smaller tol parameter.\n",
      "\n",
      "    Predict output may not match that of standalone liblinear in certain\n",
      "    cases. See :ref:`differences from liblinear <liblinear_differences>`\n",
      "    in the narrative documentation.\n",
      "\n",
      "    References\n",
      "    ----------\n",
      "\n",
      "    L-BFGS-B -- Software for Large-scale Bound-constrained Optimization\n",
      "        Ciyou Zhu, Richard Byrd, Jorge Nocedal and Jose Luis Morales.\n",
      "        http://users.iems.northwestern.edu/~nocedal/lbfgsb.html\n",
      "\n",
      "    LIBLINEAR -- A Library for Large Linear Classification\n",
      "        https://www.csie.ntu.edu.tw/~cjlin/liblinear/\n",
      "\n",
      "    SAG -- Mark Schmidt, Nicolas Le Roux, and Francis Bach\n",
      "        Minimizing Finite Sums with the Stochastic Average Gradient\n",
      "        https://hal.inria.fr/hal-00860051/document\n",
      "\n",
      "    SAGA -- Defazio, A., Bach F. & Lacoste-Julien S. (2014).\n",
      "        SAGA: A Fast Incremental Gradient Method With Support\n",
      "        for Non-Strongly Convex Composite Objectives\n",
      "        https://arxiv.org/abs/1407.0202\n",
      "\n",
      "    Hsiang-Fu Yu, Fang-Lan Huang, Chih-Jen Lin (2011). Dual coordinate descent\n",
      "        methods for logistic regression and maximum entropy models.\n",
      "        Machine Learning 85(1-2):41-75.\n",
      "        https://www.csie.ntu.edu.tw/~cjlin/papers/maxent_dual.pdf\n",
      "\n",
      "    Examples\n",
      "    --------\n",
      "    >>> from sklearn.datasets import load_iris\n",
      "    >>> from sklearn.linear_model import LogisticRegression\n",
      "    >>> X, y = load_iris(return_X_y=True)\n",
      "    >>> clf = LogisticRegression(random_state=0).fit(X, y)\n",
      "    >>> clf.predict(X[:2, :])\n",
      "    array([0, 0])\n",
      "    >>> clf.predict_proba(X[:2, :])\n",
      "    array([[9.8...e-01, 1.8...e-02, 1.4...e-08],\n",
      "           [9.7...e-01, 2.8...e-02, ...e-08]])\n",
      "    >>> clf.score(X, y)\n",
      "    0.97...\n",
      "    \n"
     ]
    }
   ],
   "source": [
    "print(LogisticRegression.__doc__)"
   ]
  },
  {
   "cell_type": "markdown",
   "id": "959e1691",
   "metadata": {},
   "source": [
    "### Parameters to search\n",
    "\n",
    "I chose to grid search over all of the solvers, but to do this I had to search with different regularization for each solver as most of them do not support all regularization.\n",
    "\n",
    "Depending on if the solver had regularization I also grid searched over the penalty L1, L2, or elasicnet combination. As well as the coefficient C to control the strength of regularization which I log scaled between 1e-3 to 100 in log steps.\n",
    "\n",
    "Other parameters I used were the max iteration as sometimes the model did not converge especially with saga solver. I didn't do too many trials with the saga solver as it never converged and spit out an annoying error message.\n",
    "\n",
    "Whether the classes are ballanced or equally weighted and whether to use a fit intercept or not were also used as variables to grid search based upon:\n",
    "\n",
    "    class_weight\n",
    "       The \"balanced\" mode uses the values of y to automatically adjust\n",
    "        weights inversely proportional to class frequencies in the input data\n",
    "        as ``n_samples / (n_classes * np.bincount(y))``.\n",
    "        \n",
    "    fit_intercept : bool, default=True\n",
    "        Specifies if a constant (a.k.a. bias or intercept) should be\n",
    "        added to the decision function."
   ]
  },
  {
   "cell_type": "code",
   "execution_count": 24,
   "id": "informational-council",
   "metadata": {
    "scrolled": false
   },
   "outputs": [
    {
     "name": "stderr",
     "output_type": "stream",
     "text": [
      "/home/xcite/anaconda3/envs/tf_gpu/lib/python3.9/site-packages/sklearn/linear_model/_sag.py:352: ConvergenceWarning: The max_iter was reached which means the coef_ did not converge\n",
      "  warnings.warn(\n",
      "/home/xcite/anaconda3/envs/tf_gpu/lib/python3.9/site-packages/sklearn/linear_model/_sag.py:352: ConvergenceWarning: The max_iter was reached which means the coef_ did not converge\n",
      "  warnings.warn(\n",
      "/home/xcite/anaconda3/envs/tf_gpu/lib/python3.9/site-packages/sklearn/linear_model/_sag.py:352: ConvergenceWarning: The max_iter was reached which means the coef_ did not converge\n",
      "  warnings.warn(\n",
      "/home/xcite/anaconda3/envs/tf_gpu/lib/python3.9/site-packages/sklearn/linear_model/_sag.py:352: ConvergenceWarning: The max_iter was reached which means the coef_ did not converge\n",
      "  warnings.warn(\n",
      "/home/xcite/anaconda3/envs/tf_gpu/lib/python3.9/site-packages/sklearn/linear_model/_sag.py:352: ConvergenceWarning: The max_iter was reached which means the coef_ did not converge\n",
      "  warnings.warn(\n",
      "/home/xcite/anaconda3/envs/tf_gpu/lib/python3.9/site-packages/sklearn/linear_model/_sag.py:352: ConvergenceWarning: The max_iter was reached which means the coef_ did not converge\n",
      "  warnings.warn(\n",
      "/home/xcite/anaconda3/envs/tf_gpu/lib/python3.9/site-packages/sklearn/linear_model/_sag.py:352: ConvergenceWarning: The max_iter was reached which means the coef_ did not converge\n",
      "  warnings.warn(\n",
      "/home/xcite/anaconda3/envs/tf_gpu/lib/python3.9/site-packages/sklearn/linear_model/_sag.py:352: ConvergenceWarning: The max_iter was reached which means the coef_ did not converge\n",
      "  warnings.warn(\n",
      "/home/xcite/anaconda3/envs/tf_gpu/lib/python3.9/site-packages/sklearn/linear_model/_sag.py:352: ConvergenceWarning: The max_iter was reached which means the coef_ did not converge\n",
      "  warnings.warn(\n",
      "/home/xcite/anaconda3/envs/tf_gpu/lib/python3.9/site-packages/sklearn/linear_model/_sag.py:352: ConvergenceWarning: The max_iter was reached which means the coef_ did not converge\n",
      "  warnings.warn(\n",
      "/home/xcite/anaconda3/envs/tf_gpu/lib/python3.9/site-packages/sklearn/linear_model/_sag.py:352: ConvergenceWarning: The max_iter was reached which means the coef_ did not converge\n",
      "  warnings.warn(\n",
      "/home/xcite/anaconda3/envs/tf_gpu/lib/python3.9/site-packages/sklearn/linear_model/_sag.py:352: ConvergenceWarning: The max_iter was reached which means the coef_ did not converge\n",
      "  warnings.warn(\n",
      "/home/xcite/anaconda3/envs/tf_gpu/lib/python3.9/site-packages/sklearn/linear_model/_sag.py:352: ConvergenceWarning: The max_iter was reached which means the coef_ did not converge\n",
      "  warnings.warn(\n",
      "/home/xcite/anaconda3/envs/tf_gpu/lib/python3.9/site-packages/sklearn/linear_model/_sag.py:352: ConvergenceWarning: The max_iter was reached which means the coef_ did not converge\n",
      "  warnings.warn(\n",
      "/home/xcite/anaconda3/envs/tf_gpu/lib/python3.9/site-packages/sklearn/linear_model/_sag.py:352: ConvergenceWarning: The max_iter was reached which means the coef_ did not converge\n",
      "  warnings.warn(\n",
      "/home/xcite/anaconda3/envs/tf_gpu/lib/python3.9/site-packages/sklearn/linear_model/_sag.py:352: ConvergenceWarning: The max_iter was reached which means the coef_ did not converge\n",
      "  warnings.warn(\n",
      "/home/xcite/anaconda3/envs/tf_gpu/lib/python3.9/site-packages/sklearn/linear_model/_sag.py:352: ConvergenceWarning: The max_iter was reached which means the coef_ did not converge\n",
      "  warnings.warn(\n",
      "/home/xcite/anaconda3/envs/tf_gpu/lib/python3.9/site-packages/sklearn/linear_model/_sag.py:352: ConvergenceWarning: The max_iter was reached which means the coef_ did not converge\n",
      "  warnings.warn(\n",
      "/home/xcite/anaconda3/envs/tf_gpu/lib/python3.9/site-packages/sklearn/linear_model/_sag.py:352: ConvergenceWarning: The max_iter was reached which means the coef_ did not converge\n",
      "  warnings.warn(\n",
      "/home/xcite/anaconda3/envs/tf_gpu/lib/python3.9/site-packages/sklearn/linear_model/_sag.py:352: ConvergenceWarning: The max_iter was reached which means the coef_ did not converge\n",
      "  warnings.warn(\n",
      "/home/xcite/anaconda3/envs/tf_gpu/lib/python3.9/site-packages/sklearn/linear_model/_sag.py:352: ConvergenceWarning: The max_iter was reached which means the coef_ did not converge\n",
      "  warnings.warn(\n"
     ]
    },
    {
     "data": {
      "text/plain": [
       "GridSearchCV(cv=RepeatedStratifiedKFold(n_repeats=5, n_splits=2, random_state=None),\n",
       "             estimator=LogisticRegression(), n_jobs=8,\n",
       "             param_grid=[{'C': array([1.e-03, 1.e-02, 1.e-01, 1.e+00, 1.e+01, 1.e+02]),\n",
       "                          'class_weight': ['balanced', None],\n",
       "                          'fit_intercept': [True, False],\n",
       "                          'max_iter': [300, 400], 'penalty': ['l1', 'l2'],\n",
       "                          'solver': ['liblinear']},\n",
       "                         {'C': array([1.e-03, 1.e-02, 1.e-0...\n",
       "                          'fit_intercept': [True, False],\n",
       "                          'max_iter': [300, 400], 'penalty': ['l2'],\n",
       "                          'solver': ['newton-cg', 'lbfgs']},\n",
       "                         {'class_weight': ['balanced', None],\n",
       "                          'fit_intercept': [True, False],\n",
       "                          'max_iter': [300, 400], 'penalty': ['none'],\n",
       "                          'solver': ['newton-cg', 'lbfgs']},\n",
       "                         {'C': [1], 'l1_ratio': [0.2, 0.4], 'max_iter': [200],\n",
       "                          'penalty': ['elasticnet'], 'solver': ['saga']}],\n",
       "             return_train_score=True)"
      ]
     },
     "execution_count": 24,
     "metadata": {},
     "output_type": "execute_result"
    }
   ],
   "source": [
    "# Make a parameter grid with different variables\n",
    "# Grid specifying options for each solver\n",
    "param_grid = [\n",
    "    {'solver': ['liblinear'],\n",
    "      'penalty': ['l1', 'l2'],\n",
    "      'C': np.logspace(-3, 2, 6),\n",
    "      'max_iter' : [300,400],\n",
    "      'class_weight' : ['balanced', None],\n",
    "      'fit_intercept' : [True,False]\n",
    "    },\n",
    "    {'solver': ['newton-cg','lbfgs'],\n",
    "      'penalty': ['l2'],\n",
    "      'C': np.logspace(-3, 2, 6),\n",
    "      'max_iter' : [300,400],\n",
    "      'class_weight' : ['balanced', None],\n",
    "      'fit_intercept' : [True,False]\n",
    "    },\n",
    "    {'solver': ['newton-cg','lbfgs'],\n",
    "      'penalty': ['none'],\n",
    "      'max_iter' : [300,400],\n",
    "      'class_weight' : ['balanced', None],\n",
    "      'fit_intercept' : [True,False]\n",
    "    },\n",
    "    {'solver': ['saga'],\n",
    "      'penalty': ['elasticnet'],\n",
    "      'l1_ratio' : [0.2, 0.4],\n",
    "      'C': [1],\n",
    "      'max_iter' : [200],\n",
    "    }\n",
    "    ]\n",
    "\n",
    "# Initialize an empty regressor\n",
    "reg = LogisticRegression()\n",
    "# Initialize a K-Fold cross validator\n",
    "cv = RepeatedStratifiedKFold(n_splits=2, n_repeats=5)\n",
    "# Initialize the grid search algorithm\n",
    "search = GridSearchCV(estimator=reg, param_grid=param_grid, n_jobs=8, return_train_score=True, cv=cv)\n",
    "# Perform the grid search\n",
    "search.fit(X_tr_Norm, Y_tr)"
   ]
  },
  {
   "cell_type": "markdown",
   "id": "separated-animation",
   "metadata": {},
   "source": [
    "### Look at the Performance from the grid search in a dataframe (from sklearn example)\n",
    "\n",
    "## Looking at the 25 best combinations"
   ]
  },
  {
   "cell_type": "code",
   "execution_count": 25,
   "id": "processed-lawsuit",
   "metadata": {
    "scrolled": false
   },
   "outputs": [
    {
     "data": {
      "text/html": [
       "<div>\n",
       "<style scoped>\n",
       "    .dataframe tbody tr th:only-of-type {\n",
       "        vertical-align: middle;\n",
       "    }\n",
       "\n",
       "    .dataframe tbody tr th {\n",
       "        vertical-align: top;\n",
       "    }\n",
       "\n",
       "    .dataframe thead th {\n",
       "        text-align: right;\n",
       "    }\n",
       "</style>\n",
       "<table border=\"1\" class=\"dataframe\">\n",
       "  <thead>\n",
       "    <tr style=\"text-align: right;\">\n",
       "      <th></th>\n",
       "      <th>params</th>\n",
       "      <th>rank_test_score</th>\n",
       "      <th>mean_test_score</th>\n",
       "      <th>std_test_score</th>\n",
       "      <th>mean_train_score</th>\n",
       "      <th>std_train_score</th>\n",
       "    </tr>\n",
       "    <tr>\n",
       "      <th>kernel</th>\n",
       "      <th></th>\n",
       "      <th></th>\n",
       "      <th></th>\n",
       "      <th></th>\n",
       "      <th></th>\n",
       "      <th></th>\n",
       "    </tr>\n",
       "  </thead>\n",
       "  <tbody>\n",
       "    <tr>\n",
       "      <th>1_0.4_200_elasticnet_saga</th>\n",
       "      <td>{'C': 1, 'l1_ratio': 0.4, 'max_iter': 200, 'pe...</td>\n",
       "      <td>1</td>\n",
       "      <td>0.967560</td>\n",
       "      <td>0.009579</td>\n",
       "      <td>0.985827</td>\n",
       "      <td>0.008459</td>\n",
       "    </tr>\n",
       "    <tr>\n",
       "      <th>1.0_balanced_True_400_l2_lbfgs</th>\n",
       "      <td>{'C': 1.0, 'class_weight': 'balanced', 'fit_in...</td>\n",
       "      <td>2</td>\n",
       "      <td>0.967557</td>\n",
       "      <td>0.009933</td>\n",
       "      <td>0.987010</td>\n",
       "      <td>0.007395</td>\n",
       "    </tr>\n",
       "    <tr>\n",
       "      <th>1.0_balanced_True_400_l2_newton-cg</th>\n",
       "      <td>{'C': 1.0, 'class_weight': 'balanced', 'fit_in...</td>\n",
       "      <td>2</td>\n",
       "      <td>0.967557</td>\n",
       "      <td>0.009933</td>\n",
       "      <td>0.987010</td>\n",
       "      <td>0.007395</td>\n",
       "    </tr>\n",
       "    <tr>\n",
       "      <th>1.0_balanced_True_300_l2_lbfgs</th>\n",
       "      <td>{'C': 1.0, 'class_weight': 'balanced', 'fit_in...</td>\n",
       "      <td>2</td>\n",
       "      <td>0.967557</td>\n",
       "      <td>0.009933</td>\n",
       "      <td>0.987010</td>\n",
       "      <td>0.007395</td>\n",
       "    </tr>\n",
       "    <tr>\n",
       "      <th>1.0_balanced_True_300_l2_newton-cg</th>\n",
       "      <td>{'C': 1.0, 'class_weight': 'balanced', 'fit_in...</td>\n",
       "      <td>2</td>\n",
       "      <td>0.967557</td>\n",
       "      <td>0.009933</td>\n",
       "      <td>0.987010</td>\n",
       "      <td>0.007395</td>\n",
       "    </tr>\n",
       "    <tr>\n",
       "      <th>1_0.2_200_elasticnet_saga</th>\n",
       "      <td>{'C': 1, 'l1_ratio': 0.2, 'max_iter': 200, 'pe...</td>\n",
       "      <td>6</td>\n",
       "      <td>0.966965</td>\n",
       "      <td>0.010612</td>\n",
       "      <td>0.985827</td>\n",
       "      <td>0.008459</td>\n",
       "    </tr>\n",
       "    <tr>\n",
       "      <th>0.1_balanced_True_400_l2_lbfgs</th>\n",
       "      <td>{'C': 0.1, 'class_weight': 'balanced', 'fit_in...</td>\n",
       "      <td>7</td>\n",
       "      <td>0.966366</td>\n",
       "      <td>0.010577</td>\n",
       "      <td>0.979930</td>\n",
       "      <td>0.007588</td>\n",
       "    </tr>\n",
       "    <tr>\n",
       "      <th>0.1_balanced_True_400_l2_newton-cg</th>\n",
       "      <td>{'C': 0.1, 'class_weight': 'balanced', 'fit_in...</td>\n",
       "      <td>7</td>\n",
       "      <td>0.966366</td>\n",
       "      <td>0.010577</td>\n",
       "      <td>0.979930</td>\n",
       "      <td>0.007588</td>\n",
       "    </tr>\n",
       "    <tr>\n",
       "      <th>0.1_balanced_True_300_l2_lbfgs</th>\n",
       "      <td>{'C': 0.1, 'class_weight': 'balanced', 'fit_in...</td>\n",
       "      <td>7</td>\n",
       "      <td>0.966366</td>\n",
       "      <td>0.010577</td>\n",
       "      <td>0.979930</td>\n",
       "      <td>0.007588</td>\n",
       "    </tr>\n",
       "    <tr>\n",
       "      <th>0.1_balanced_True_300_l2_newton-cg</th>\n",
       "      <td>{'C': 0.1, 'class_weight': 'balanced', 'fit_in...</td>\n",
       "      <td>7</td>\n",
       "      <td>0.966366</td>\n",
       "      <td>0.010577</td>\n",
       "      <td>0.979930</td>\n",
       "      <td>0.007588</td>\n",
       "    </tr>\n",
       "    <tr>\n",
       "      <th>1.0_None_True_300_l2_lbfgs</th>\n",
       "      <td>{'C': 1.0, 'class_weight': None, 'fit_intercep...</td>\n",
       "      <td>11</td>\n",
       "      <td>0.965785</td>\n",
       "      <td>0.009050</td>\n",
       "      <td>0.985827</td>\n",
       "      <td>0.010323</td>\n",
       "    </tr>\n",
       "    <tr>\n",
       "      <th>1.0_None_True_400_l2_newton-cg</th>\n",
       "      <td>{'C': 1.0, 'class_weight': None, 'fit_intercep...</td>\n",
       "      <td>11</td>\n",
       "      <td>0.965785</td>\n",
       "      <td>0.009050</td>\n",
       "      <td>0.985827</td>\n",
       "      <td>0.010323</td>\n",
       "    </tr>\n",
       "    <tr>\n",
       "      <th>1.0_None_True_400_l2_lbfgs</th>\n",
       "      <td>{'C': 1.0, 'class_weight': None, 'fit_intercep...</td>\n",
       "      <td>11</td>\n",
       "      <td>0.965785</td>\n",
       "      <td>0.009050</td>\n",
       "      <td>0.985827</td>\n",
       "      <td>0.010323</td>\n",
       "    </tr>\n",
       "    <tr>\n",
       "      <th>1.0_None_True_300_l2_newton-cg</th>\n",
       "      <td>{'C': 1.0, 'class_weight': None, 'fit_intercep...</td>\n",
       "      <td>11</td>\n",
       "      <td>0.965785</td>\n",
       "      <td>0.009050</td>\n",
       "      <td>0.985827</td>\n",
       "      <td>0.010323</td>\n",
       "    </tr>\n",
       "    <tr>\n",
       "      <th>0.1_None_True_400_l2_newton-cg</th>\n",
       "      <td>{'C': 0.1, 'class_weight': None, 'fit_intercep...</td>\n",
       "      <td>15</td>\n",
       "      <td>0.965785</td>\n",
       "      <td>0.013116</td>\n",
       "      <td>0.980522</td>\n",
       "      <td>0.007967</td>\n",
       "    </tr>\n",
       "    <tr>\n",
       "      <th>0.1_None_True_300_l2_lbfgs</th>\n",
       "      <td>{'C': 0.1, 'class_weight': None, 'fit_intercep...</td>\n",
       "      <td>15</td>\n",
       "      <td>0.965785</td>\n",
       "      <td>0.013116</td>\n",
       "      <td>0.980522</td>\n",
       "      <td>0.007967</td>\n",
       "    </tr>\n",
       "    <tr>\n",
       "      <th>0.1_None_True_300_l2_newton-cg</th>\n",
       "      <td>{'C': 0.1, 'class_weight': None, 'fit_intercep...</td>\n",
       "      <td>15</td>\n",
       "      <td>0.965785</td>\n",
       "      <td>0.013116</td>\n",
       "      <td>0.980522</td>\n",
       "      <td>0.007967</td>\n",
       "    </tr>\n",
       "    <tr>\n",
       "      <th>0.1_None_True_400_l2_lbfgs</th>\n",
       "      <td>{'C': 0.1, 'class_weight': None, 'fit_intercep...</td>\n",
       "      <td>15</td>\n",
       "      <td>0.965785</td>\n",
       "      <td>0.013116</td>\n",
       "      <td>0.980522</td>\n",
       "      <td>0.007967</td>\n",
       "    </tr>\n",
       "    <tr>\n",
       "      <th>1.0_balanced_True_400_l2_liblinear</th>\n",
       "      <td>{'C': 1.0, 'class_weight': 'balanced', 'fit_in...</td>\n",
       "      <td>19</td>\n",
       "      <td>0.965774</td>\n",
       "      <td>0.010168</td>\n",
       "      <td>0.985830</td>\n",
       "      <td>0.006597</td>\n",
       "    </tr>\n",
       "    <tr>\n",
       "      <th>1.0_balanced_True_300_l2_liblinear</th>\n",
       "      <td>{'C': 1.0, 'class_weight': 'balanced', 'fit_in...</td>\n",
       "      <td>19</td>\n",
       "      <td>0.965774</td>\n",
       "      <td>0.010168</td>\n",
       "      <td>0.985830</td>\n",
       "      <td>0.006597</td>\n",
       "    </tr>\n",
       "    <tr>\n",
       "      <th>1.0_None_True_400_l2_liblinear</th>\n",
       "      <td>{'C': 1.0, 'class_weight': None, 'fit_intercep...</td>\n",
       "      <td>21</td>\n",
       "      <td>0.965183</td>\n",
       "      <td>0.013836</td>\n",
       "      <td>0.985238</td>\n",
       "      <td>0.007135</td>\n",
       "    </tr>\n",
       "    <tr>\n",
       "      <th>1.0_None_True_300_l2_liblinear</th>\n",
       "      <td>{'C': 1.0, 'class_weight': None, 'fit_intercep...</td>\n",
       "      <td>21</td>\n",
       "      <td>0.965183</td>\n",
       "      <td>0.013836</td>\n",
       "      <td>0.985238</td>\n",
       "      <td>0.007135</td>\n",
       "    </tr>\n",
       "    <tr>\n",
       "      <th>0.1_None_True_300_l2_liblinear</th>\n",
       "      <td>{'C': 0.1, 'class_weight': None, 'fit_intercep...</td>\n",
       "      <td>23</td>\n",
       "      <td>0.962816</td>\n",
       "      <td>0.012432</td>\n",
       "      <td>0.973432</td>\n",
       "      <td>0.009653</td>\n",
       "    </tr>\n",
       "    <tr>\n",
       "      <th>0.1_None_True_400_l2_liblinear</th>\n",
       "      <td>{'C': 0.1, 'class_weight': None, 'fit_intercep...</td>\n",
       "      <td>23</td>\n",
       "      <td>0.962816</td>\n",
       "      <td>0.012432</td>\n",
       "      <td>0.973432</td>\n",
       "      <td>0.009653</td>\n",
       "    </tr>\n",
       "    <tr>\n",
       "      <th>1.0_balanced_True_300_l1_liblinear</th>\n",
       "      <td>{'C': 1.0, 'class_weight': 'balanced', 'fit_in...</td>\n",
       "      <td>25</td>\n",
       "      <td>0.961646</td>\n",
       "      <td>0.009995</td>\n",
       "      <td>0.982294</td>\n",
       "      <td>0.008363</td>\n",
       "    </tr>\n",
       "  </tbody>\n",
       "</table>\n",
       "</div>"
      ],
      "text/plain": [
       "                                                                               params  \\\n",
       "kernel                                                                                  \n",
       "1_0.4_200_elasticnet_saga           {'C': 1, 'l1_ratio': 0.4, 'max_iter': 200, 'pe...   \n",
       "1.0_balanced_True_400_l2_lbfgs      {'C': 1.0, 'class_weight': 'balanced', 'fit_in...   \n",
       "1.0_balanced_True_400_l2_newton-cg  {'C': 1.0, 'class_weight': 'balanced', 'fit_in...   \n",
       "1.0_balanced_True_300_l2_lbfgs      {'C': 1.0, 'class_weight': 'balanced', 'fit_in...   \n",
       "1.0_balanced_True_300_l2_newton-cg  {'C': 1.0, 'class_weight': 'balanced', 'fit_in...   \n",
       "1_0.2_200_elasticnet_saga           {'C': 1, 'l1_ratio': 0.2, 'max_iter': 200, 'pe...   \n",
       "0.1_balanced_True_400_l2_lbfgs      {'C': 0.1, 'class_weight': 'balanced', 'fit_in...   \n",
       "0.1_balanced_True_400_l2_newton-cg  {'C': 0.1, 'class_weight': 'balanced', 'fit_in...   \n",
       "0.1_balanced_True_300_l2_lbfgs      {'C': 0.1, 'class_weight': 'balanced', 'fit_in...   \n",
       "0.1_balanced_True_300_l2_newton-cg  {'C': 0.1, 'class_weight': 'balanced', 'fit_in...   \n",
       "1.0_None_True_300_l2_lbfgs          {'C': 1.0, 'class_weight': None, 'fit_intercep...   \n",
       "1.0_None_True_400_l2_newton-cg      {'C': 1.0, 'class_weight': None, 'fit_intercep...   \n",
       "1.0_None_True_400_l2_lbfgs          {'C': 1.0, 'class_weight': None, 'fit_intercep...   \n",
       "1.0_None_True_300_l2_newton-cg      {'C': 1.0, 'class_weight': None, 'fit_intercep...   \n",
       "0.1_None_True_400_l2_newton-cg      {'C': 0.1, 'class_weight': None, 'fit_intercep...   \n",
       "0.1_None_True_300_l2_lbfgs          {'C': 0.1, 'class_weight': None, 'fit_intercep...   \n",
       "0.1_None_True_300_l2_newton-cg      {'C': 0.1, 'class_weight': None, 'fit_intercep...   \n",
       "0.1_None_True_400_l2_lbfgs          {'C': 0.1, 'class_weight': None, 'fit_intercep...   \n",
       "1.0_balanced_True_400_l2_liblinear  {'C': 1.0, 'class_weight': 'balanced', 'fit_in...   \n",
       "1.0_balanced_True_300_l2_liblinear  {'C': 1.0, 'class_weight': 'balanced', 'fit_in...   \n",
       "1.0_None_True_400_l2_liblinear      {'C': 1.0, 'class_weight': None, 'fit_intercep...   \n",
       "1.0_None_True_300_l2_liblinear      {'C': 1.0, 'class_weight': None, 'fit_intercep...   \n",
       "0.1_None_True_300_l2_liblinear      {'C': 0.1, 'class_weight': None, 'fit_intercep...   \n",
       "0.1_None_True_400_l2_liblinear      {'C': 0.1, 'class_weight': None, 'fit_intercep...   \n",
       "1.0_balanced_True_300_l1_liblinear  {'C': 1.0, 'class_weight': 'balanced', 'fit_in...   \n",
       "\n",
       "                                    rank_test_score  mean_test_score  \\\n",
       "kernel                                                                 \n",
       "1_0.4_200_elasticnet_saga                         1         0.967560   \n",
       "1.0_balanced_True_400_l2_lbfgs                    2         0.967557   \n",
       "1.0_balanced_True_400_l2_newton-cg                2         0.967557   \n",
       "1.0_balanced_True_300_l2_lbfgs                    2         0.967557   \n",
       "1.0_balanced_True_300_l2_newton-cg                2         0.967557   \n",
       "1_0.2_200_elasticnet_saga                         6         0.966965   \n",
       "0.1_balanced_True_400_l2_lbfgs                    7         0.966366   \n",
       "0.1_balanced_True_400_l2_newton-cg                7         0.966366   \n",
       "0.1_balanced_True_300_l2_lbfgs                    7         0.966366   \n",
       "0.1_balanced_True_300_l2_newton-cg                7         0.966366   \n",
       "1.0_None_True_300_l2_lbfgs                       11         0.965785   \n",
       "1.0_None_True_400_l2_newton-cg                   11         0.965785   \n",
       "1.0_None_True_400_l2_lbfgs                       11         0.965785   \n",
       "1.0_None_True_300_l2_newton-cg                   11         0.965785   \n",
       "0.1_None_True_400_l2_newton-cg                   15         0.965785   \n",
       "0.1_None_True_300_l2_lbfgs                       15         0.965785   \n",
       "0.1_None_True_300_l2_newton-cg                   15         0.965785   \n",
       "0.1_None_True_400_l2_lbfgs                       15         0.965785   \n",
       "1.0_balanced_True_400_l2_liblinear               19         0.965774   \n",
       "1.0_balanced_True_300_l2_liblinear               19         0.965774   \n",
       "1.0_None_True_400_l2_liblinear                   21         0.965183   \n",
       "1.0_None_True_300_l2_liblinear                   21         0.965183   \n",
       "0.1_None_True_300_l2_liblinear                   23         0.962816   \n",
       "0.1_None_True_400_l2_liblinear                   23         0.962816   \n",
       "1.0_balanced_True_300_l1_liblinear               25         0.961646   \n",
       "\n",
       "                                    std_test_score  mean_train_score  \\\n",
       "kernel                                                                 \n",
       "1_0.4_200_elasticnet_saga                 0.009579          0.985827   \n",
       "1.0_balanced_True_400_l2_lbfgs            0.009933          0.987010   \n",
       "1.0_balanced_True_400_l2_newton-cg        0.009933          0.987010   \n",
       "1.0_balanced_True_300_l2_lbfgs            0.009933          0.987010   \n",
       "1.0_balanced_True_300_l2_newton-cg        0.009933          0.987010   \n",
       "1_0.2_200_elasticnet_saga                 0.010612          0.985827   \n",
       "0.1_balanced_True_400_l2_lbfgs            0.010577          0.979930   \n",
       "0.1_balanced_True_400_l2_newton-cg        0.010577          0.979930   \n",
       "0.1_balanced_True_300_l2_lbfgs            0.010577          0.979930   \n",
       "0.1_balanced_True_300_l2_newton-cg        0.010577          0.979930   \n",
       "1.0_None_True_300_l2_lbfgs                0.009050          0.985827   \n",
       "1.0_None_True_400_l2_newton-cg            0.009050          0.985827   \n",
       "1.0_None_True_400_l2_lbfgs                0.009050          0.985827   \n",
       "1.0_None_True_300_l2_newton-cg            0.009050          0.985827   \n",
       "0.1_None_True_400_l2_newton-cg            0.013116          0.980522   \n",
       "0.1_None_True_300_l2_lbfgs                0.013116          0.980522   \n",
       "0.1_None_True_300_l2_newton-cg            0.013116          0.980522   \n",
       "0.1_None_True_400_l2_lbfgs                0.013116          0.980522   \n",
       "1.0_balanced_True_400_l2_liblinear        0.010168          0.985830   \n",
       "1.0_balanced_True_300_l2_liblinear        0.010168          0.985830   \n",
       "1.0_None_True_400_l2_liblinear            0.013836          0.985238   \n",
       "1.0_None_True_300_l2_liblinear            0.013836          0.985238   \n",
       "0.1_None_True_300_l2_liblinear            0.012432          0.973432   \n",
       "0.1_None_True_400_l2_liblinear            0.012432          0.973432   \n",
       "1.0_balanced_True_300_l1_liblinear        0.009995          0.982294   \n",
       "\n",
       "                                    std_train_score  \n",
       "kernel                                               \n",
       "1_0.4_200_elasticnet_saga                  0.008459  \n",
       "1.0_balanced_True_400_l2_lbfgs             0.007395  \n",
       "1.0_balanced_True_400_l2_newton-cg         0.007395  \n",
       "1.0_balanced_True_300_l2_lbfgs             0.007395  \n",
       "1.0_balanced_True_300_l2_newton-cg         0.007395  \n",
       "1_0.2_200_elasticnet_saga                  0.008459  \n",
       "0.1_balanced_True_400_l2_lbfgs             0.007588  \n",
       "0.1_balanced_True_400_l2_newton-cg         0.007588  \n",
       "0.1_balanced_True_300_l2_lbfgs             0.007588  \n",
       "0.1_balanced_True_300_l2_newton-cg         0.007588  \n",
       "1.0_None_True_300_l2_lbfgs                 0.010323  \n",
       "1.0_None_True_400_l2_newton-cg             0.010323  \n",
       "1.0_None_True_400_l2_lbfgs                 0.010323  \n",
       "1.0_None_True_300_l2_newton-cg             0.010323  \n",
       "0.1_None_True_400_l2_newton-cg             0.007967  \n",
       "0.1_None_True_300_l2_lbfgs                 0.007967  \n",
       "0.1_None_True_300_l2_newton-cg             0.007967  \n",
       "0.1_None_True_400_l2_lbfgs                 0.007967  \n",
       "1.0_balanced_True_400_l2_liblinear         0.006597  \n",
       "1.0_balanced_True_300_l2_liblinear         0.006597  \n",
       "1.0_None_True_400_l2_liblinear             0.007135  \n",
       "1.0_None_True_300_l2_liblinear             0.007135  \n",
       "0.1_None_True_300_l2_liblinear             0.009653  \n",
       "0.1_None_True_400_l2_liblinear             0.009653  \n",
       "1.0_balanced_True_300_l1_liblinear         0.008363  "
      ]
     },
     "execution_count": 25,
     "metadata": {},
     "output_type": "execute_result"
    }
   ],
   "source": [
    "results_df = pd.DataFrame(search.cv_results_) # make a dataframe\n",
    "results_df = results_df.sort_values(by=[\"rank_test_score\"]) # Sort by test score\n",
    "results_df = results_df.set_index(\n",
    "    results_df[\"params\"].apply(lambda x: \"_\".join(str(val) for val in x.values()))\n",
    ").rename_axis(\"kernel\") # give descriptive name\n",
    "results_df[[\"params\", \"rank_test_score\", \"mean_test_score\", \"std_test_score\",\"mean_train_score\",\"std_train_score\"]][:25] # Look at mean and variation in scores"
   ]
  },
  {
   "cell_type": "markdown",
   "id": "seasonal-screen",
   "metadata": {},
   "source": [
    "#### It looks like the elasticnet saga solver actually performed the best with a regularization strength of 1 l1 ratio of 0.4 even though it did not converge, however many of the other algorithms had very very similar performance. \n",
    "\n",
    "#### Interestingly many of the top choices had the balanced weighting option, since the models converged many of the top algorithms are present for max_iter of 300 and 400 as the max iteration was never reached and both models returned the same value."
   ]
  },
  {
   "cell_type": "markdown",
   "id": "4206fd53",
   "metadata": {},
   "source": [
    "### Look at the 25 worst combinations"
   ]
  },
  {
   "cell_type": "code",
   "execution_count": 10,
   "id": "38ac142a",
   "metadata": {
    "scrolled": false
   },
   "outputs": [
    {
     "data": {
      "text/html": [
       "<div>\n",
       "<style scoped>\n",
       "    .dataframe tbody tr th:only-of-type {\n",
       "        vertical-align: middle;\n",
       "    }\n",
       "\n",
       "    .dataframe tbody tr th {\n",
       "        vertical-align: top;\n",
       "    }\n",
       "\n",
       "    .dataframe thead th {\n",
       "        text-align: right;\n",
       "    }\n",
       "</style>\n",
       "<table border=\"1\" class=\"dataframe\">\n",
       "  <thead>\n",
       "    <tr style=\"text-align: right;\">\n",
       "      <th></th>\n",
       "      <th>params</th>\n",
       "      <th>rank_test_score</th>\n",
       "      <th>mean_test_score</th>\n",
       "      <th>std_test_score</th>\n",
       "      <th>mean_train_score</th>\n",
       "      <th>std_train_score</th>\n",
       "    </tr>\n",
       "    <tr>\n",
       "      <th>kernel</th>\n",
       "      <th></th>\n",
       "      <th></th>\n",
       "      <th></th>\n",
       "      <th></th>\n",
       "      <th></th>\n",
       "      <th></th>\n",
       "    </tr>\n",
       "  </thead>\n",
       "  <tbody>\n",
       "    <tr>\n",
       "      <th>0.001_None_False_400_l2_newton-cg</th>\n",
       "      <td>{'C': 0.001, 'class_weight': None, 'fit_interc...</td>\n",
       "      <td>179</td>\n",
       "      <td>0.917252</td>\n",
       "      <td>0.034880</td>\n",
       "      <td>0.918133</td>\n",
       "      <td>0.007607</td>\n",
       "    </tr>\n",
       "    <tr>\n",
       "      <th>0.001_balanced_False_300_l2_newton-cg</th>\n",
       "      <td>{'C': 0.001, 'class_weight': 'balanced', 'fit_...</td>\n",
       "      <td>179</td>\n",
       "      <td>0.917252</td>\n",
       "      <td>0.034880</td>\n",
       "      <td>0.917395</td>\n",
       "      <td>0.008682</td>\n",
       "    </tr>\n",
       "    <tr>\n",
       "      <th>0.001_balanced_False_300_l2_lbfgs</th>\n",
       "      <td>{'C': 0.001, 'class_weight': 'balanced', 'fit_...</td>\n",
       "      <td>179</td>\n",
       "      <td>0.917252</td>\n",
       "      <td>0.034880</td>\n",
       "      <td>0.917395</td>\n",
       "      <td>0.008682</td>\n",
       "    </tr>\n",
       "    <tr>\n",
       "      <th>0.001_balanced_False_400_l2_newton-cg</th>\n",
       "      <td>{'C': 0.001, 'class_weight': 'balanced', 'fit_...</td>\n",
       "      <td>179</td>\n",
       "      <td>0.917252</td>\n",
       "      <td>0.034880</td>\n",
       "      <td>0.917395</td>\n",
       "      <td>0.008682</td>\n",
       "    </tr>\n",
       "    <tr>\n",
       "      <th>0.001_balanced_False_400_l2_lbfgs</th>\n",
       "      <td>{'C': 0.001, 'class_weight': 'balanced', 'fit_...</td>\n",
       "      <td>179</td>\n",
       "      <td>0.917252</td>\n",
       "      <td>0.034880</td>\n",
       "      <td>0.917395</td>\n",
       "      <td>0.008682</td>\n",
       "    </tr>\n",
       "    <tr>\n",
       "      <th>0.001_None_False_300_l2_newton-cg</th>\n",
       "      <td>{'C': 0.001, 'class_weight': None, 'fit_interc...</td>\n",
       "      <td>179</td>\n",
       "      <td>0.917252</td>\n",
       "      <td>0.034880</td>\n",
       "      <td>0.918133</td>\n",
       "      <td>0.007607</td>\n",
       "    </tr>\n",
       "    <tr>\n",
       "      <th>0.001_None_False_300_l2_lbfgs</th>\n",
       "      <td>{'C': 0.001, 'class_weight': None, 'fit_interc...</td>\n",
       "      <td>179</td>\n",
       "      <td>0.917252</td>\n",
       "      <td>0.034880</td>\n",
       "      <td>0.918133</td>\n",
       "      <td>0.007607</td>\n",
       "    </tr>\n",
       "    <tr>\n",
       "      <th>0.001_None_False_300_l2_liblinear</th>\n",
       "      <td>{'C': 0.001, 'class_weight': None, 'fit_interc...</td>\n",
       "      <td>179</td>\n",
       "      <td>0.917252</td>\n",
       "      <td>0.034880</td>\n",
       "      <td>0.918133</td>\n",
       "      <td>0.007607</td>\n",
       "    </tr>\n",
       "    <tr>\n",
       "      <th>0.001_None_False_400_l2_liblinear</th>\n",
       "      <td>{'C': 0.001, 'class_weight': None, 'fit_interc...</td>\n",
       "      <td>179</td>\n",
       "      <td>0.917252</td>\n",
       "      <td>0.034880</td>\n",
       "      <td>0.918133</td>\n",
       "      <td>0.007607</td>\n",
       "    </tr>\n",
       "    <tr>\n",
       "      <th>0.01_balanced_False_300_l1_liblinear</th>\n",
       "      <td>{'C': 0.01, 'class_weight': 'balanced', 'fit_i...</td>\n",
       "      <td>195</td>\n",
       "      <td>0.902678</td>\n",
       "      <td>0.014851</td>\n",
       "      <td>0.902656</td>\n",
       "      <td>0.003723</td>\n",
       "    </tr>\n",
       "    <tr>\n",
       "      <th>0.01_balanced_True_300_l1_liblinear</th>\n",
       "      <td>{'C': 0.01, 'class_weight': 'balanced', 'fit_i...</td>\n",
       "      <td>195</td>\n",
       "      <td>0.902678</td>\n",
       "      <td>0.014851</td>\n",
       "      <td>0.902656</td>\n",
       "      <td>0.003723</td>\n",
       "    </tr>\n",
       "    <tr>\n",
       "      <th>0.01_balanced_True_400_l1_liblinear</th>\n",
       "      <td>{'C': 0.01, 'class_weight': 'balanced', 'fit_i...</td>\n",
       "      <td>195</td>\n",
       "      <td>0.902678</td>\n",
       "      <td>0.014851</td>\n",
       "      <td>0.902656</td>\n",
       "      <td>0.003723</td>\n",
       "    </tr>\n",
       "    <tr>\n",
       "      <th>0.01_balanced_False_400_l1_liblinear</th>\n",
       "      <td>{'C': 0.01, 'class_weight': 'balanced', 'fit_i...</td>\n",
       "      <td>195</td>\n",
       "      <td>0.902678</td>\n",
       "      <td>0.014851</td>\n",
       "      <td>0.902656</td>\n",
       "      <td>0.003723</td>\n",
       "    </tr>\n",
       "    <tr>\n",
       "      <th>0.01_None_True_300_l1_liblinear</th>\n",
       "      <td>{'C': 0.01, 'class_weight': None, 'fit_interce...</td>\n",
       "      <td>195</td>\n",
       "      <td>0.902678</td>\n",
       "      <td>0.014851</td>\n",
       "      <td>0.902656</td>\n",
       "      <td>0.003723</td>\n",
       "    </tr>\n",
       "    <tr>\n",
       "      <th>0.01_None_True_400_l1_liblinear</th>\n",
       "      <td>{'C': 0.01, 'class_weight': None, 'fit_interce...</td>\n",
       "      <td>195</td>\n",
       "      <td>0.902678</td>\n",
       "      <td>0.014851</td>\n",
       "      <td>0.902656</td>\n",
       "      <td>0.003723</td>\n",
       "    </tr>\n",
       "    <tr>\n",
       "      <th>0.01_None_False_300_l1_liblinear</th>\n",
       "      <td>{'C': 0.01, 'class_weight': None, 'fit_interce...</td>\n",
       "      <td>195</td>\n",
       "      <td>0.902678</td>\n",
       "      <td>0.014851</td>\n",
       "      <td>0.902656</td>\n",
       "      <td>0.003723</td>\n",
       "    </tr>\n",
       "    <tr>\n",
       "      <th>0.01_None_False_400_l1_liblinear</th>\n",
       "      <td>{'C': 0.01, 'class_weight': None, 'fit_interce...</td>\n",
       "      <td>195</td>\n",
       "      <td>0.902678</td>\n",
       "      <td>0.014851</td>\n",
       "      <td>0.902656</td>\n",
       "      <td>0.003723</td>\n",
       "    </tr>\n",
       "    <tr>\n",
       "      <th>0.001_None_False_300_l1_liblinear</th>\n",
       "      <td>{'C': 0.001, 'class_weight': None, 'fit_interc...</td>\n",
       "      <td>203</td>\n",
       "      <td>0.522125</td>\n",
       "      <td>0.006578</td>\n",
       "      <td>0.522124</td>\n",
       "      <td>0.001651</td>\n",
       "    </tr>\n",
       "    <tr>\n",
       "      <th>0.001_None_True_400_l1_liblinear</th>\n",
       "      <td>{'C': 0.001, 'class_weight': None, 'fit_interc...</td>\n",
       "      <td>203</td>\n",
       "      <td>0.522125</td>\n",
       "      <td>0.006578</td>\n",
       "      <td>0.522124</td>\n",
       "      <td>0.001651</td>\n",
       "    </tr>\n",
       "    <tr>\n",
       "      <th>0.001_None_True_300_l1_liblinear</th>\n",
       "      <td>{'C': 0.001, 'class_weight': None, 'fit_interc...</td>\n",
       "      <td>203</td>\n",
       "      <td>0.522125</td>\n",
       "      <td>0.006578</td>\n",
       "      <td>0.522124</td>\n",
       "      <td>0.001651</td>\n",
       "    </tr>\n",
       "    <tr>\n",
       "      <th>0.001_balanced_False_400_l1_liblinear</th>\n",
       "      <td>{'C': 0.001, 'class_weight': 'balanced', 'fit_...</td>\n",
       "      <td>203</td>\n",
       "      <td>0.522125</td>\n",
       "      <td>0.006578</td>\n",
       "      <td>0.522124</td>\n",
       "      <td>0.001651</td>\n",
       "    </tr>\n",
       "    <tr>\n",
       "      <th>0.001_balanced_False_300_l1_liblinear</th>\n",
       "      <td>{'C': 0.001, 'class_weight': 'balanced', 'fit_...</td>\n",
       "      <td>203</td>\n",
       "      <td>0.522125</td>\n",
       "      <td>0.006578</td>\n",
       "      <td>0.522124</td>\n",
       "      <td>0.001651</td>\n",
       "    </tr>\n",
       "    <tr>\n",
       "      <th>0.001_balanced_True_400_l1_liblinear</th>\n",
       "      <td>{'C': 0.001, 'class_weight': 'balanced', 'fit_...</td>\n",
       "      <td>203</td>\n",
       "      <td>0.522125</td>\n",
       "      <td>0.006578</td>\n",
       "      <td>0.522124</td>\n",
       "      <td>0.001651</td>\n",
       "    </tr>\n",
       "    <tr>\n",
       "      <th>0.001_None_False_400_l1_liblinear</th>\n",
       "      <td>{'C': 0.001, 'class_weight': None, 'fit_interc...</td>\n",
       "      <td>203</td>\n",
       "      <td>0.522125</td>\n",
       "      <td>0.006578</td>\n",
       "      <td>0.522124</td>\n",
       "      <td>0.001651</td>\n",
       "    </tr>\n",
       "    <tr>\n",
       "      <th>0.001_balanced_True_300_l1_liblinear</th>\n",
       "      <td>{'C': 0.001, 'class_weight': 'balanced', 'fit_...</td>\n",
       "      <td>203</td>\n",
       "      <td>0.522125</td>\n",
       "      <td>0.006578</td>\n",
       "      <td>0.522124</td>\n",
       "      <td>0.001651</td>\n",
       "    </tr>\n",
       "  </tbody>\n",
       "</table>\n",
       "</div>"
      ],
      "text/plain": [
       "                                                                                  params  \\\n",
       "kernel                                                                                     \n",
       "0.001_None_False_400_l2_newton-cg      {'C': 0.001, 'class_weight': None, 'fit_interc...   \n",
       "0.001_balanced_False_300_l2_newton-cg  {'C': 0.001, 'class_weight': 'balanced', 'fit_...   \n",
       "0.001_balanced_False_300_l2_lbfgs      {'C': 0.001, 'class_weight': 'balanced', 'fit_...   \n",
       "0.001_balanced_False_400_l2_newton-cg  {'C': 0.001, 'class_weight': 'balanced', 'fit_...   \n",
       "0.001_balanced_False_400_l2_lbfgs      {'C': 0.001, 'class_weight': 'balanced', 'fit_...   \n",
       "0.001_None_False_300_l2_newton-cg      {'C': 0.001, 'class_weight': None, 'fit_interc...   \n",
       "0.001_None_False_300_l2_lbfgs          {'C': 0.001, 'class_weight': None, 'fit_interc...   \n",
       "0.001_None_False_300_l2_liblinear      {'C': 0.001, 'class_weight': None, 'fit_interc...   \n",
       "0.001_None_False_400_l2_liblinear      {'C': 0.001, 'class_weight': None, 'fit_interc...   \n",
       "0.01_balanced_False_300_l1_liblinear   {'C': 0.01, 'class_weight': 'balanced', 'fit_i...   \n",
       "0.01_balanced_True_300_l1_liblinear    {'C': 0.01, 'class_weight': 'balanced', 'fit_i...   \n",
       "0.01_balanced_True_400_l1_liblinear    {'C': 0.01, 'class_weight': 'balanced', 'fit_i...   \n",
       "0.01_balanced_False_400_l1_liblinear   {'C': 0.01, 'class_weight': 'balanced', 'fit_i...   \n",
       "0.01_None_True_300_l1_liblinear        {'C': 0.01, 'class_weight': None, 'fit_interce...   \n",
       "0.01_None_True_400_l1_liblinear        {'C': 0.01, 'class_weight': None, 'fit_interce...   \n",
       "0.01_None_False_300_l1_liblinear       {'C': 0.01, 'class_weight': None, 'fit_interce...   \n",
       "0.01_None_False_400_l1_liblinear       {'C': 0.01, 'class_weight': None, 'fit_interce...   \n",
       "0.001_None_False_300_l1_liblinear      {'C': 0.001, 'class_weight': None, 'fit_interc...   \n",
       "0.001_None_True_400_l1_liblinear       {'C': 0.001, 'class_weight': None, 'fit_interc...   \n",
       "0.001_None_True_300_l1_liblinear       {'C': 0.001, 'class_weight': None, 'fit_interc...   \n",
       "0.001_balanced_False_400_l1_liblinear  {'C': 0.001, 'class_weight': 'balanced', 'fit_...   \n",
       "0.001_balanced_False_300_l1_liblinear  {'C': 0.001, 'class_weight': 'balanced', 'fit_...   \n",
       "0.001_balanced_True_400_l1_liblinear   {'C': 0.001, 'class_weight': 'balanced', 'fit_...   \n",
       "0.001_None_False_400_l1_liblinear      {'C': 0.001, 'class_weight': None, 'fit_interc...   \n",
       "0.001_balanced_True_300_l1_liblinear   {'C': 0.001, 'class_weight': 'balanced', 'fit_...   \n",
       "\n",
       "                                       rank_test_score  mean_test_score  \\\n",
       "kernel                                                                    \n",
       "0.001_None_False_400_l2_newton-cg                  179         0.917252   \n",
       "0.001_balanced_False_300_l2_newton-cg              179         0.917252   \n",
       "0.001_balanced_False_300_l2_lbfgs                  179         0.917252   \n",
       "0.001_balanced_False_400_l2_newton-cg              179         0.917252   \n",
       "0.001_balanced_False_400_l2_lbfgs                  179         0.917252   \n",
       "0.001_None_False_300_l2_newton-cg                  179         0.917252   \n",
       "0.001_None_False_300_l2_lbfgs                      179         0.917252   \n",
       "0.001_None_False_300_l2_liblinear                  179         0.917252   \n",
       "0.001_None_False_400_l2_liblinear                  179         0.917252   \n",
       "0.01_balanced_False_300_l1_liblinear               195         0.902678   \n",
       "0.01_balanced_True_300_l1_liblinear                195         0.902678   \n",
       "0.01_balanced_True_400_l1_liblinear                195         0.902678   \n",
       "0.01_balanced_False_400_l1_liblinear               195         0.902678   \n",
       "0.01_None_True_300_l1_liblinear                    195         0.902678   \n",
       "0.01_None_True_400_l1_liblinear                    195         0.902678   \n",
       "0.01_None_False_300_l1_liblinear                   195         0.902678   \n",
       "0.01_None_False_400_l1_liblinear                   195         0.902678   \n",
       "0.001_None_False_300_l1_liblinear                  203         0.522125   \n",
       "0.001_None_True_400_l1_liblinear                   203         0.522125   \n",
       "0.001_None_True_300_l1_liblinear                   203         0.522125   \n",
       "0.001_balanced_False_400_l1_liblinear              203         0.522125   \n",
       "0.001_balanced_False_300_l1_liblinear              203         0.522125   \n",
       "0.001_balanced_True_400_l1_liblinear               203         0.522125   \n",
       "0.001_None_False_400_l1_liblinear                  203         0.522125   \n",
       "0.001_balanced_True_300_l1_liblinear               203         0.522125   \n",
       "\n",
       "                                       std_test_score  mean_train_score  \\\n",
       "kernel                                                                    \n",
       "0.001_None_False_400_l2_newton-cg            0.034880          0.918133   \n",
       "0.001_balanced_False_300_l2_newton-cg        0.034880          0.917395   \n",
       "0.001_balanced_False_300_l2_lbfgs            0.034880          0.917395   \n",
       "0.001_balanced_False_400_l2_newton-cg        0.034880          0.917395   \n",
       "0.001_balanced_False_400_l2_lbfgs            0.034880          0.917395   \n",
       "0.001_None_False_300_l2_newton-cg            0.034880          0.918133   \n",
       "0.001_None_False_300_l2_lbfgs                0.034880          0.918133   \n",
       "0.001_None_False_300_l2_liblinear            0.034880          0.918133   \n",
       "0.001_None_False_400_l2_liblinear            0.034880          0.918133   \n",
       "0.01_balanced_False_300_l1_liblinear         0.014851          0.902656   \n",
       "0.01_balanced_True_300_l1_liblinear          0.014851          0.902656   \n",
       "0.01_balanced_True_400_l1_liblinear          0.014851          0.902656   \n",
       "0.01_balanced_False_400_l1_liblinear         0.014851          0.902656   \n",
       "0.01_None_True_300_l1_liblinear              0.014851          0.902656   \n",
       "0.01_None_True_400_l1_liblinear              0.014851          0.902656   \n",
       "0.01_None_False_300_l1_liblinear             0.014851          0.902656   \n",
       "0.01_None_False_400_l1_liblinear             0.014851          0.902656   \n",
       "0.001_None_False_300_l1_liblinear            0.006578          0.522124   \n",
       "0.001_None_True_400_l1_liblinear             0.006578          0.522124   \n",
       "0.001_None_True_300_l1_liblinear             0.006578          0.522124   \n",
       "0.001_balanced_False_400_l1_liblinear        0.006578          0.522124   \n",
       "0.001_balanced_False_300_l1_liblinear        0.006578          0.522124   \n",
       "0.001_balanced_True_400_l1_liblinear         0.006578          0.522124   \n",
       "0.001_None_False_400_l1_liblinear            0.006578          0.522124   \n",
       "0.001_balanced_True_300_l1_liblinear         0.006578          0.522124   \n",
       "\n",
       "                                       std_train_score  \n",
       "kernel                                                  \n",
       "0.001_None_False_400_l2_newton-cg             0.007607  \n",
       "0.001_balanced_False_300_l2_newton-cg         0.008682  \n",
       "0.001_balanced_False_300_l2_lbfgs             0.008682  \n",
       "0.001_balanced_False_400_l2_newton-cg         0.008682  \n",
       "0.001_balanced_False_400_l2_lbfgs             0.008682  \n",
       "0.001_None_False_300_l2_newton-cg             0.007607  \n",
       "0.001_None_False_300_l2_lbfgs                 0.007607  \n",
       "0.001_None_False_300_l2_liblinear             0.007607  \n",
       "0.001_None_False_400_l2_liblinear             0.007607  \n",
       "0.01_balanced_False_300_l1_liblinear          0.003723  \n",
       "0.01_balanced_True_300_l1_liblinear           0.003723  \n",
       "0.01_balanced_True_400_l1_liblinear           0.003723  \n",
       "0.01_balanced_False_400_l1_liblinear          0.003723  \n",
       "0.01_None_True_300_l1_liblinear               0.003723  \n",
       "0.01_None_True_400_l1_liblinear               0.003723  \n",
       "0.01_None_False_300_l1_liblinear              0.003723  \n",
       "0.01_None_False_400_l1_liblinear              0.003723  \n",
       "0.001_None_False_300_l1_liblinear             0.001651  \n",
       "0.001_None_True_400_l1_liblinear              0.001651  \n",
       "0.001_None_True_300_l1_liblinear              0.001651  \n",
       "0.001_balanced_False_400_l1_liblinear         0.001651  \n",
       "0.001_balanced_False_300_l1_liblinear         0.001651  \n",
       "0.001_balanced_True_400_l1_liblinear          0.001651  \n",
       "0.001_None_False_400_l1_liblinear             0.001651  \n",
       "0.001_balanced_True_300_l1_liblinear          0.001651  "
      ]
     },
     "execution_count": 10,
     "metadata": {},
     "output_type": "execute_result"
    }
   ],
   "source": [
    "results_df = pd.DataFrame(search.cv_results_) # make a dataframe\n",
    "results_df = results_df.sort_values(by=[\"rank_test_score\"]) # Sort by test score\n",
    "results_df = results_df.set_index(\n",
    "    results_df[\"params\"].apply(lambda x: \"_\".join(str(val) for val in x.values()))\n",
    ").rename_axis(\"kernel\") # give descriptive name\n",
    "results_df[[\"params\", \"rank_test_score\", \"mean_test_score\", \"std_test_score\",\"mean_train_score\",\"std_train_score\"]][-25:] # Look at mean and variation in scores"
   ]
  },
  {
   "cell_type": "markdown",
   "id": "8347ba88",
   "metadata": {},
   "source": [
    "#### In general it looks like the liblinear solver performed the worst in many cases especially with a really weak regularization coefficient with L1 regularization with increasingly poor results the for lower values of C."
   ]
  },
  {
   "cell_type": "markdown",
   "id": "patent-confirmation",
   "metadata": {},
   "source": [
    "## Testing this combination using the metrics from 4-KNN-Classification-Alfalfa"
   ]
  },
  {
   "cell_type": "code",
   "execution_count": 11,
   "id": "treated-consultancy",
   "metadata": {},
   "outputs": [
    {
     "name": "stderr",
     "output_type": "stream",
     "text": [
      "/home/xcite/anaconda3/envs/tf_gpu/lib/python3.9/site-packages/sklearn/linear_model/_sag.py:352: ConvergenceWarning: The max_iter was reached which means the coef_ did not converge\n",
      "  warnings.warn(\n"
     ]
    }
   ],
   "source": [
    "LG_norm = LogisticRegression(penalty='elasticnet',solver='saga',C=1,l1_ratio=0.2,max_iter=200) #parameters above\n",
    "\n",
    "LG_norm.fit(X_tr_Norm,Y_tr)  # fit the model with training set (Normalized)\n",
    "\n",
    "# Looking at both the probability and the prediction\n",
    "Y_tr_prob = LG_norm.predict_proba(X_tr_Norm)[:,1]\n",
    "Y_tr_pred = LG_norm.predict(X_tr_Norm)\n",
    "\n",
    "Y_va_prob = LG_norm.predict_proba(X_va_Norm)[:,1]\n",
    "Y_va_pred = LG_norm.predict(X_va_Norm)\n",
    "\n",
    "# Boolean arrays of where the training and validation are one and zero\n",
    "idx_tr_1 = (Y_tr==1)\n",
    "idx_tr_0 = (Y_tr==0)\n",
    "\n",
    "idx_va_1 = (Y_va==1)\n",
    "idx_va_0 = (Y_va==0)"
   ]
  },
  {
   "cell_type": "markdown",
   "id": "tender-shame",
   "metadata": {},
   "source": [
    "#### Looking at the target names"
   ]
  },
  {
   "cell_type": "code",
   "execution_count": 12,
   "id": "hidden-rebel",
   "metadata": {},
   "outputs": [
    {
     "data": {
      "text/plain": [
       "array(['malignant', 'benign'], dtype='<U9')"
      ]
     },
     "execution_count": 12,
     "metadata": {},
     "output_type": "execute_result"
    }
   ],
   "source": [
    "data.target_names # reminder of the classes"
   ]
  },
  {
   "cell_type": "markdown",
   "id": "gentle-beatles",
   "metadata": {},
   "source": [
    "### Plot the histograms of the probability in the training set and validation set"
   ]
  },
  {
   "cell_type": "code",
   "execution_count": 13,
   "id": "induced-county",
   "metadata": {},
   "outputs": [
    {
     "data": {
      "text/plain": [
       "<matplotlib.legend.Legend at 0x7fb62cf9c7f0>"
      ]
     },
     "execution_count": 13,
     "metadata": {},
     "output_type": "execute_result"
    },
    {
     "data": {
      "image/png": "[encoded data removed]",
      "text/plain": [
       "<Figure size 720x432 with 1 Axes>"
      ]
     },
     "metadata": {
      "needs_background": "light"
     },
     "output_type": "display_data"
    }
   ],
   "source": [
    "plt.figure(figsize=(10, 6))\n",
    "plt.hist(Y_tr_prob[idx_tr_1],30,histtype='step',color = \"blue\", label='Benign (TR)')\n",
    "plt.hist(Y_tr_prob[idx_tr_0],30,histtype='step',color = \"red\",label='Malignant (TR)')\n",
    "plt.xlim([0,1])\n",
    "plt.title('Training Set')\n",
    "plt.legend()"
   ]
  },
  {
   "cell_type": "markdown",
   "id": "latter-immigration",
   "metadata": {},
   "source": [
    "### Plotting the probability for the validation set"
   ]
  },
  {
   "cell_type": "code",
   "execution_count": 14,
   "id": "logical-target",
   "metadata": {},
   "outputs": [
    {
     "data": {
      "text/plain": [
       "<matplotlib.legend.Legend at 0x7fb62c644a00>"
      ]
     },
     "execution_count": 14,
     "metadata": {},
     "output_type": "execute_result"
    },
    {
     "data": {
      "image/png": "[encoded data removed]",
      "text/plain": [
       "<Figure size 720x432 with 1 Axes>"
      ]
     },
     "metadata": {
      "needs_background": "light"
     },
     "output_type": "display_data"
    }
   ],
   "source": [
    "plt.figure(figsize=(10, 6))\n",
    "plt.hist(Y_va_prob[idx_va_1],20,histtype='step',color = \"blue\", label='Benign (VA)')\n",
    "plt.hist(Y_va_prob[idx_va_0],20,histtype='step',color = \"red\",label='Malignant (VA)')\n",
    "plt.title('Validation set')\n",
    "plt.xlim([0,1])\n",
    "plt.legend()"
   ]
  },
  {
   "cell_type": "markdown",
   "id": "american-siemens",
   "metadata": {},
   "source": [
    "#### The training and validation show similar classifications and both show little overlap. The validation does not show too many edge cases such as those shown in the training set."
   ]
  },
  {
   "cell_type": "markdown",
   "id": "alert-auction",
   "metadata": {},
   "source": [
    "### Plot the AUC curves"
   ]
  },
  {
   "cell_type": "code",
   "execution_count": 15,
   "id": "associate-newsletter",
   "metadata": {},
   "outputs": [
    {
     "name": "stderr",
     "output_type": "stream",
     "text": [
      "/home/xcite/anaconda3/envs/tf_gpu/lib/python3.9/site-packages/sklearn/utils/deprecation.py:87: FutureWarning: Function plot_roc_curve is deprecated; Function :func:`plot_roc_curve` is deprecated in 1.0 and will be removed in 1.2. Use one of the class methods: :meth:`sklearn.metric.RocCurveDisplay.from_predictions` or :meth:`sklearn.metric.RocCurveDisplay.from_estimator`.\n",
      "  warnings.warn(msg, category=FutureWarning)\n"
     ]
    },
    {
     "data": {
      "text/plain": [
       "Text(0.5, 1.0, 'AUC Training')"
      ]
     },
     "execution_count": 15,
     "metadata": {},
     "output_type": "execute_result"
    },
    {
     "data": {
      "image/png": "[encoded data removed]",
      "text/plain": [
       "<Figure size 432x288 with 1 Axes>"
      ]
     },
     "metadata": {
      "needs_background": "light"
     },
     "output_type": "display_data"
    }
   ],
   "source": [
    "metrics.plot_roc_curve(LG_norm, X_tr_Norm, Y_tr)\n",
    "plt.title('AUC Training')"
   ]
  },
  {
   "cell_type": "markdown",
   "id": "sixth-ground",
   "metadata": {},
   "source": [
    "#### The AUC curve looks close to 90 degrees indicating good seperation of classes with good agreement between training and validation indicating little evidence of overfitting or underfitting.\n",
    "\n",
    "#### I didn't plot the validation AUC curve because the statistics were not good enough to be very informative."
   ]
  },
  {
   "cell_type": "markdown",
   "id": "distinct-singing",
   "metadata": {},
   "source": [
    "### Confusion Matrices"
   ]
  },
  {
   "cell_type": "code",
   "execution_count": 16,
   "id": "cubic-gregory",
   "metadata": {},
   "outputs": [
    {
     "name": "stderr",
     "output_type": "stream",
     "text": [
      "/home/xcite/anaconda3/envs/tf_gpu/lib/python3.9/site-packages/sklearn/utils/deprecation.py:87: FutureWarning: Function plot_confusion_matrix is deprecated; Function `plot_confusion_matrix` is deprecated in 1.0 and will be removed in 1.2. Use one of the class methods: ConfusionMatrixDisplay.from_predictions or ConfusionMatrixDisplay.from_estimator.\n",
      "  warnings.warn(msg, category=FutureWarning)\n"
     ]
    },
    {
     "data": {
      "text/plain": [
       "Text(0.5, 1.0, 'TR')"
      ]
     },
     "execution_count": 16,
     "metadata": {},
     "output_type": "execute_result"
    },
    {
     "data": {
      "image/png": "[encoded data removed]",
      "text/plain": [
       "<Figure size 432x288 with 2 Axes>"
      ]
     },
     "metadata": {
      "needs_background": "light"
     },
     "output_type": "display_data"
    }
   ],
   "source": [
    "metrics.plot_confusion_matrix(LG_norm, X_tr_Norm, Y_tr) \n",
    "plt.title('TR')"
   ]
  },
  {
   "cell_type": "code",
   "execution_count": 17,
   "id": "progressive-brunei",
   "metadata": {},
   "outputs": [
    {
     "name": "stderr",
     "output_type": "stream",
     "text": [
      "/home/xcite/anaconda3/envs/tf_gpu/lib/python3.9/site-packages/sklearn/utils/deprecation.py:87: FutureWarning: Function plot_confusion_matrix is deprecated; Function `plot_confusion_matrix` is deprecated in 1.0 and will be removed in 1.2. Use one of the class methods: ConfusionMatrixDisplay.from_predictions or ConfusionMatrixDisplay.from_estimator.\n",
      "  warnings.warn(msg, category=FutureWarning)\n"
     ]
    },
    {
     "data": {
      "text/plain": [
       "Text(0.5, 1.0, 'VA')"
      ]
     },
     "execution_count": 17,
     "metadata": {},
     "output_type": "execute_result"
    },
    {
     "data": {
      "image/png": "[encoded data removed]",
      "text/plain": [
       "<Figure size 432x288 with 2 Axes>"
      ]
     },
     "metadata": {
      "needs_background": "light"
     },
     "output_type": "display_data"
    }
   ],
   "source": [
    "metrics.plot_confusion_matrix(LG_norm, X_va_Norm, Y_va) \n",
    "plt.title('VA')"
   ]
  },
  {
   "cell_type": "code",
   "execution_count": 18,
   "id": "close-knitting",
   "metadata": {},
   "outputs": [
    {
     "name": "stderr",
     "output_type": "stream",
     "text": [
      "/home/xcite/anaconda3/envs/tf_gpu/lib/python3.9/site-packages/sklearn/utils/deprecation.py:87: FutureWarning: Function plot_confusion_matrix is deprecated; Function `plot_confusion_matrix` is deprecated in 1.0 and will be removed in 1.2. Use one of the class methods: ConfusionMatrixDisplay.from_predictions or ConfusionMatrixDisplay.from_estimator.\n",
      "  warnings.warn(msg, category=FutureWarning)\n"
     ]
    },
    {
     "data": {
      "text/plain": [
       "Text(0.5, 1.0, 'TR, Normalized')"
      ]
     },
     "execution_count": 18,
     "metadata": {},
     "output_type": "execute_result"
    },
    {
     "data": {
      "image/png": "[encoded data removed]",
      "text/plain": [
       "<Figure size 432x288 with 2 Axes>"
      ]
     },
     "metadata": {
      "needs_background": "light"
     },
     "output_type": "display_data"
    }
   ],
   "source": [
    "metrics.plot_confusion_matrix(LG_norm, X_tr_Norm, Y_tr,normalize='true') \n",
    "plt.title('TR, Normalized')"
   ]
  },
  {
   "cell_type": "code",
   "execution_count": 19,
   "id": "smooth-manner",
   "metadata": {},
   "outputs": [
    {
     "name": "stderr",
     "output_type": "stream",
     "text": [
      "/home/xcite/anaconda3/envs/tf_gpu/lib/python3.9/site-packages/sklearn/utils/deprecation.py:87: FutureWarning: Function plot_confusion_matrix is deprecated; Function `plot_confusion_matrix` is deprecated in 1.0 and will be removed in 1.2. Use one of the class methods: ConfusionMatrixDisplay.from_predictions or ConfusionMatrixDisplay.from_estimator.\n",
      "  warnings.warn(msg, category=FutureWarning)\n"
     ]
    },
    {
     "data": {
      "text/plain": [
       "Text(0.5, 1.0, 'VA, Normalized')"
      ]
     },
     "execution_count": 19,
     "metadata": {},
     "output_type": "execute_result"
    },
    {
     "data": {
      "image/png": "[encoded data removed]",
      "text/plain": [
       "<Figure size 432x288 with 2 Axes>"
      ]
     },
     "metadata": {
      "needs_background": "light"
     },
     "output_type": "display_data"
    }
   ],
   "source": [
    "metrics.plot_confusion_matrix(LG_norm, X_va_Norm, Y_va,normalize='true') \n",
    "plt.title('VA, Normalized')"
   ]
  },
  {
   "cell_type": "markdown",
   "id": "civilian-naples",
   "metadata": {},
   "source": [
    "#### Looking at the training and validation data confusion matrices there are very few false positives and false negatives. \n",
    "\n",
    "#### However there are a few cases that are labeled 1 (benign) when the true class is 0 (malignant) which is a bad thing in cancer data. Thus, we should adjust the threshold to above 0.8 (in this case) to avoid this. Even though this will result in more false positives."
   ]
  },
  {
   "cell_type": "markdown",
   "id": "backed-membrane",
   "metadata": {},
   "source": [
    "### Print Recall, Accuracy, and Precision"
   ]
  },
  {
   "cell_type": "code",
   "execution_count": 20,
   "id": "acknowledged-peace",
   "metadata": {},
   "outputs": [
    {
     "name": "stdout",
     "output_type": "stream",
     "text": [
      "Recall (TR) =  0.9876543209876543\n",
      "Recall (VA) =  0.98\n"
     ]
    }
   ],
   "source": [
    "print (\"Recall (TR) = \", metrics.recall_score(Y_tr, Y_tr_pred))\n",
    "print (\"Recall (VA) = \", metrics.recall_score(Y_va, Y_va_pred))"
   ]
  },
  {
   "cell_type": "code",
   "execution_count": 21,
   "id": "christian-guarantee",
   "metadata": {},
   "outputs": [
    {
     "name": "stdout",
     "output_type": "stream",
     "text": [
      "Accuracy (TR) =  0.9793510324483776\n",
      "Accuracy (VA) =  0.9882352941176471\n"
     ]
    }
   ],
   "source": [
    "print (\"Accuracy (TR) = \", metrics.accuracy_score(Y_tr, Y_tr_pred))\n",
    "print (\"Accuracy (VA) = \", metrics.accuracy_score(Y_va, Y_va_pred))"
   ]
  },
  {
   "cell_type": "code",
   "execution_count": 22,
   "id": "standard-framing",
   "metadata": {
    "scrolled": true
   },
   "outputs": [
    {
     "name": "stdout",
     "output_type": "stream",
     "text": [
      "Precision (TR) =  0.9696969696969697\n",
      "Precision (VA) =  1.0\n"
     ]
    }
   ],
   "source": [
    "print (\"Precision (TR) = \", metrics.precision_score(Y_tr, Y_tr_pred))\n",
    "print (\"Precision (VA) = \", metrics.precision_score(Y_va, Y_va_pred))"
   ]
  },
  {
   "cell_type": "markdown",
   "id": "systematic-hardwood",
   "metadata": {},
   "source": [
    "#### All metrics are above 0.96 for accuracy, recall, and precision for both training and validation which is very good."
   ]
  },
  {
   "cell_type": "markdown",
   "id": "812150ff",
   "metadata": {},
   "source": [
    "## Bonus\n",
    "\n",
    "Bonus. For question 4, try to make “the pipeline” from SKlearn (as much as possible) to make your code more organized. See if you can incorporate GridSearch too. This part is more engineering.\n",
    "\n",
    "#### Here I'll do a simple example doing things this way"
   ]
  },
  {
   "cell_type": "code",
   "execution_count": 23,
   "id": "60e91e38",
   "metadata": {
    "scrolled": false
   },
   "outputs": [
    {
     "name": "stdout",
     "output_type": "stream",
     "text": [
      "Best parameter (CV score=0.965):\n",
      "{'logistic__class_weight': 'balanced', 'logistic__fit_intercept': True, 'logistic__max_iter': 300, 'logistic__penalty': 'l1', 'logistic__solver': 'liblinear'}\n"
     ]
    }
   ],
   "source": [
    "from sklearn.pipeline import Pipeline\n",
    "\n",
    "# Pipeline with scaler and LogisticRegression\n",
    "pipe = Pipeline([\n",
    "    ('scaler',StandardScaler()),\n",
    "    ('logistic', LogisticRegression())])\n",
    "\n",
    "# Simpler parameter grid for show\n",
    "param_grid = {'logistic__solver': ['liblinear'],\n",
    "      'logistic__penalty': ['l1', 'l2'],\n",
    "      'logistic__max_iter' : [300,400],\n",
    "      'logistic__class_weight' : ['balanced', None],\n",
    "      'logistic__fit_intercept' : [True,False]\n",
    "    }\n",
    "\n",
    "# Perform the search\n",
    "search = GridSearchCV(pipe, param_grid)\n",
    "search.fit(X_bal,Y_bal)\n",
    "\n",
    "print(\"Best parameter (CV score=%0.3f):\" % search.best_score_)\n",
    "print(search.best_params_)"
   ]
  },
  {
   "cell_type": "markdown",
   "id": "8e6d181e",
   "metadata": {},
   "source": [
    "#### In this case I don't think it saved me much time or lines of code but I think it would with more complicated models "
   ]
  }
 ],
 "metadata": {
  "kernelspec": {
   "display_name": "Python 3 (ipykernel)",
   "language": "python",
   "name": "python3"
  },
  "language_info": {
   "codemirror_mode": {
    "name": "ipython",
    "version": 3
   },
   "file_extension": ".py",
   "mimetype": "text/x-python",
   "name": "python",
   "nbconvert_exporter": "python",
   "pygments_lexer": "ipython3",
   "version": "3.9.7"
  },
  "varInspector": {
   "cols": {
    "lenName": "16",
    "lenType": "3",
    "lenVar": "20"
   },
   "kernels_config": {
    "python": {
     "delete_cmd_postfix": "",
     "delete_cmd_prefix": "del ",
     "library": "var_list.py",
     "varRefreshCmd": "print(var_dic_list())"
    },
    "r": {
     "delete_cmd_postfix": ") ",
     "delete_cmd_prefix": "rm(",
     "library": "var_list.r",
     "varRefreshCmd": "cat(var_dic_list()) "
    }
   },
   "types_to_exclude": [
    "module",
    "function",
    "builtin_function_or_method",
    "instance",
    "_Feature"
   ],
   "window_display": false
  }
 },
 "nbformat": 4,
 "nbformat_minor": 5
}
